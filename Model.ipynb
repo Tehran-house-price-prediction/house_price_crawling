{
 "cells": [
  {
   "cell_type": "code",
   "execution_count": 1,
   "metadata": {},
   "outputs": [
    {
     "name": "stderr",
     "output_type": "stream",
     "text": [
      "<frozen importlib._bootstrap>:228: RuntimeWarning: scipy._lib.messagestream.MessageStream size changed, may indicate binary incompatibility. Expected 56 from C header, got 64 from PyObject\n"
     ]
    }
   ],
   "source": [
    "import pandas as pd\n",
    "from sklearn.preprocessing import LabelEncoder , MinMaxScaler , StandardScaler , PolynomialFeatures \n",
    "from sklearn.linear_model import LinearRegression , Lasso , Ridge\n",
    "from sklearn.metrics import mean_absolute_error , mean_squared_error , r2_score \n",
    "import seaborn as sns\n",
    "import numpy as np"
   ]
  },
  {
   "cell_type": "code",
   "execution_count": 2,
   "metadata": {},
   "outputs": [],
   "source": [
    "train = pd.read_csv(\"train_v2.csv\")\n",
    "X_train = train.drop([\"price\",\"neighbour_hood\"] , axis=1)\n",
    "y_train = train[\"price\"]"
   ]
  },
  {
   "cell_type": "code",
   "execution_count": 3,
   "metadata": {},
   "outputs": [],
   "source": [
    "test = pd.read_csv(\"test_v2.csv\")\n"
   ]
  },
  {
   "cell_type": "code",
   "execution_count": 4,
   "metadata": {},
   "outputs": [
    {
     "data": {
      "text/plain": [
       "build_year                 0\n",
       "area                       0\n",
       "floor                      0\n",
       "rooms                      0\n",
       "Parking                    0\n",
       "Elevator                   0\n",
       "Warehouse                  0\n",
       "Luxury_features            0\n",
       "mean                       0\n",
       "std                       50\n",
       "median                     0\n",
       "amin                       0\n",
       "amax                       0\n",
       "neighbour_hood_encoded     0\n",
       "dtype: int64"
      ]
     },
     "execution_count": 4,
     "metadata": {},
     "output_type": "execute_result"
    }
   ],
   "source": [
    "X_train.isna().sum()"
   ]
  },
  {
   "cell_type": "code",
   "execution_count": 5,
   "metadata": {},
   "outputs": [],
   "source": [
    "X_train.fillna(0 , inplace=True)\n"
   ]
  },
  {
   "attachments": {},
   "cell_type": "markdown",
   "metadata": {},
   "source": [
    "# Drop outliers from test"
   ]
  },
  {
   "cell_type": "code",
   "execution_count": 6,
   "metadata": {},
   "outputs": [
    {
     "data": {
      "text/html": [
       "<div>\n",
       "<style scoped>\n",
       "    .dataframe tbody tr th:only-of-type {\n",
       "        vertical-align: middle;\n",
       "    }\n",
       "\n",
       "    .dataframe tbody tr th {\n",
       "        vertical-align: top;\n",
       "    }\n",
       "\n",
       "    .dataframe thead th {\n",
       "        text-align: right;\n",
       "    }\n",
       "</style>\n",
       "<table border=\"1\" class=\"dataframe\">\n",
       "  <thead>\n",
       "    <tr style=\"text-align: right;\">\n",
       "      <th></th>\n",
       "      <th>build_year</th>\n",
       "      <th>area</th>\n",
       "      <th>floor</th>\n",
       "      <th>rooms</th>\n",
       "      <th>Parking</th>\n",
       "      <th>Elevator</th>\n",
       "      <th>Warehouse</th>\n",
       "      <th>Luxury_features</th>\n",
       "      <th>price</th>\n",
       "      <th>mean</th>\n",
       "      <th>std</th>\n",
       "      <th>median</th>\n",
       "      <th>amin</th>\n",
       "      <th>amax</th>\n",
       "      <th>neighbour_hood_encoded</th>\n",
       "    </tr>\n",
       "  </thead>\n",
       "  <tbody>\n",
       "    <tr>\n",
       "      <th>count</th>\n",
       "      <td>5853.000000</td>\n",
       "      <td>5853.000000</td>\n",
       "      <td>5853.000000</td>\n",
       "      <td>5853.000000</td>\n",
       "      <td>5853.000000</td>\n",
       "      <td>5853.000000</td>\n",
       "      <td>5853.000000</td>\n",
       "      <td>5853.000000</td>\n",
       "      <td>5.853000e+03</td>\n",
       "      <td>5.840000e+03</td>\n",
       "      <td>5.821000e+03</td>\n",
       "      <td>5.840000e+03</td>\n",
       "      <td>5.840000e+03</td>\n",
       "      <td>5.840000e+03</td>\n",
       "      <td>5853.000000</td>\n",
       "    </tr>\n",
       "    <tr>\n",
       "      <th>mean</th>\n",
       "      <td>1393.184521</td>\n",
       "      <td>139.908252</td>\n",
       "      <td>4.371604</td>\n",
       "      <td>2.389031</td>\n",
       "      <td>0.659320</td>\n",
       "      <td>0.626175</td>\n",
       "      <td>0.588758</td>\n",
       "      <td>0.202973</td>\n",
       "      <td>8.644855e+07</td>\n",
       "      <td>7.800058e+07</td>\n",
       "      <td>2.029221e+07</td>\n",
       "      <td>7.620234e+07</td>\n",
       "      <td>2.482350e+07</td>\n",
       "      <td>1.402287e+08</td>\n",
       "      <td>14.283957</td>\n",
       "    </tr>\n",
       "    <tr>\n",
       "      <th>std</th>\n",
       "      <td>7.333277</td>\n",
       "      <td>162.836499</td>\n",
       "      <td>5.887542</td>\n",
       "      <td>0.801909</td>\n",
       "      <td>0.473978</td>\n",
       "      <td>0.483859</td>\n",
       "      <td>0.492101</td>\n",
       "      <td>0.402247</td>\n",
       "      <td>1.263279e+08</td>\n",
       "      <td>2.984214e+07</td>\n",
       "      <td>9.445204e+06</td>\n",
       "      <td>2.881349e+07</td>\n",
       "      <td>1.967649e+07</td>\n",
       "      <td>5.198462e+07</td>\n",
       "      <td>5.322865</td>\n",
       "    </tr>\n",
       "    <tr>\n",
       "      <th>min</th>\n",
       "      <td>1362.000000</td>\n",
       "      <td>1.000000</td>\n",
       "      <td>0.000000</td>\n",
       "      <td>1.000000</td>\n",
       "      <td>0.000000</td>\n",
       "      <td>0.000000</td>\n",
       "      <td>0.000000</td>\n",
       "      <td>0.000000</td>\n",
       "      <td>1.000000e+05</td>\n",
       "      <td>1.000000e+07</td>\n",
       "      <td>0.000000e+00</td>\n",
       "      <td>1.000000e+07</td>\n",
       "      <td>8.432200e+05</td>\n",
       "      <td>1.000000e+07</td>\n",
       "      <td>-1.000000</td>\n",
       "    </tr>\n",
       "    <tr>\n",
       "      <th>25%</th>\n",
       "      <td>1387.000000</td>\n",
       "      <td>85.000000</td>\n",
       "      <td>2.000000</td>\n",
       "      <td>2.000000</td>\n",
       "      <td>0.000000</td>\n",
       "      <td>0.000000</td>\n",
       "      <td>0.000000</td>\n",
       "      <td>0.000000</td>\n",
       "      <td>5.436400e+07</td>\n",
       "      <td>5.934115e+07</td>\n",
       "      <td>1.217463e+07</td>\n",
       "      <td>5.954545e+07</td>\n",
       "      <td>8.783783e+06</td>\n",
       "      <td>9.670000e+07</td>\n",
       "      <td>12.000000</td>\n",
       "    </tr>\n",
       "    <tr>\n",
       "      <th>50%</th>\n",
       "      <td>1395.000000</td>\n",
       "      <td>115.000000</td>\n",
       "      <td>3.000000</td>\n",
       "      <td>2.000000</td>\n",
       "      <td>1.000000</td>\n",
       "      <td>1.000000</td>\n",
       "      <td>1.000000</td>\n",
       "      <td>0.000000</td>\n",
       "      <td>7.303371e+07</td>\n",
       "      <td>8.021010e+07</td>\n",
       "      <td>1.699174e+07</td>\n",
       "      <td>7.741900e+07</td>\n",
       "      <td>1.650000e+07</td>\n",
       "      <td>1.313131e+08</td>\n",
       "      <td>16.000000</td>\n",
       "    </tr>\n",
       "    <tr>\n",
       "      <th>75%</th>\n",
       "      <td>1400.000000</td>\n",
       "      <td>158.000000</td>\n",
       "      <td>5.000000</td>\n",
       "      <td>3.000000</td>\n",
       "      <td>1.000000</td>\n",
       "      <td>1.000000</td>\n",
       "      <td>1.000000</td>\n",
       "      <td>0.000000</td>\n",
       "      <td>1.000000e+08</td>\n",
       "      <td>9.182152e+07</td>\n",
       "      <td>2.978417e+07</td>\n",
       "      <td>8.928571e+07</td>\n",
       "      <td>4.210000e+07</td>\n",
       "      <td>2.000000e+08</td>\n",
       "      <td>18.000000</td>\n",
       "    </tr>\n",
       "    <tr>\n",
       "      <th>max</th>\n",
       "      <td>1402.000000</td>\n",
       "      <td>10000.000000</td>\n",
       "      <td>146.000000</td>\n",
       "      <td>10.000000</td>\n",
       "      <td>1.000000</td>\n",
       "      <td>1.000000</td>\n",
       "      <td>1.000000</td>\n",
       "      <td>1.000000</td>\n",
       "      <td>8.800000e+09</td>\n",
       "      <td>1.516000e+08</td>\n",
       "      <td>5.451752e+07</td>\n",
       "      <td>1.624000e+08</td>\n",
       "      <td>1.350000e+08</td>\n",
       "      <td>2.047000e+08</td>\n",
       "      <td>21.000000</td>\n",
       "    </tr>\n",
       "  </tbody>\n",
       "</table>\n",
       "</div>"
      ],
      "text/plain": [
       "        build_year          area        floor        rooms      Parking  \\\n",
       "count  5853.000000   5853.000000  5853.000000  5853.000000  5853.000000   \n",
       "mean   1393.184521    139.908252     4.371604     2.389031     0.659320   \n",
       "std       7.333277    162.836499     5.887542     0.801909     0.473978   \n",
       "min    1362.000000      1.000000     0.000000     1.000000     0.000000   \n",
       "25%    1387.000000     85.000000     2.000000     2.000000     0.000000   \n",
       "50%    1395.000000    115.000000     3.000000     2.000000     1.000000   \n",
       "75%    1400.000000    158.000000     5.000000     3.000000     1.000000   \n",
       "max    1402.000000  10000.000000   146.000000    10.000000     1.000000   \n",
       "\n",
       "          Elevator    Warehouse  Luxury_features         price          mean  \\\n",
       "count  5853.000000  5853.000000      5853.000000  5.853000e+03  5.840000e+03   \n",
       "mean      0.626175     0.588758         0.202973  8.644855e+07  7.800058e+07   \n",
       "std       0.483859     0.492101         0.402247  1.263279e+08  2.984214e+07   \n",
       "min       0.000000     0.000000         0.000000  1.000000e+05  1.000000e+07   \n",
       "25%       0.000000     0.000000         0.000000  5.436400e+07  5.934115e+07   \n",
       "50%       1.000000     1.000000         0.000000  7.303371e+07  8.021010e+07   \n",
       "75%       1.000000     1.000000         0.000000  1.000000e+08  9.182152e+07   \n",
       "max       1.000000     1.000000         1.000000  8.800000e+09  1.516000e+08   \n",
       "\n",
       "                std        median          amin          amax  \\\n",
       "count  5.821000e+03  5.840000e+03  5.840000e+03  5.840000e+03   \n",
       "mean   2.029221e+07  7.620234e+07  2.482350e+07  1.402287e+08   \n",
       "std    9.445204e+06  2.881349e+07  1.967649e+07  5.198462e+07   \n",
       "min    0.000000e+00  1.000000e+07  8.432200e+05  1.000000e+07   \n",
       "25%    1.217463e+07  5.954545e+07  8.783783e+06  9.670000e+07   \n",
       "50%    1.699174e+07  7.741900e+07  1.650000e+07  1.313131e+08   \n",
       "75%    2.978417e+07  8.928571e+07  4.210000e+07  2.000000e+08   \n",
       "max    5.451752e+07  1.624000e+08  1.350000e+08  2.047000e+08   \n",
       "\n",
       "       neighbour_hood_encoded  \n",
       "count             5853.000000  \n",
       "mean                14.283957  \n",
       "std                  5.322865  \n",
       "min                 -1.000000  \n",
       "25%                 12.000000  \n",
       "50%                 16.000000  \n",
       "75%                 18.000000  \n",
       "max                 21.000000  "
      ]
     },
     "execution_count": 6,
     "metadata": {},
     "output_type": "execute_result"
    }
   ],
   "source": [
    "test.describe()"
   ]
  },
  {
   "cell_type": "code",
   "execution_count": 7,
   "metadata": {},
   "outputs": [
    {
     "data": {
      "text/plain": [
       "1253        1\n",
       "2801       15\n",
       "5040       20\n",
       "1402       20\n",
       "5780       35\n",
       "        ...  \n",
       "1491     1200\n",
       "2055     1500\n",
       "275      1533\n",
       "5622     2900\n",
       "5582    10000\n",
       "Name: area, Length: 5853, dtype: int64"
      ]
     },
     "execution_count": 7,
     "metadata": {},
     "output_type": "execute_result"
    }
   ],
   "source": [
    "test[\"area\"].sort_values()"
   ]
  },
  {
   "cell_type": "code",
   "execution_count": 8,
   "metadata": {},
   "outputs": [
    {
     "data": {
      "text/plain": [
       "300.0"
      ]
     },
     "execution_count": 8,
     "metadata": {},
     "output_type": "execute_result"
    }
   ],
   "source": [
    "np.percentile(test[\"area\"] , 95)"
   ]
  },
  {
   "cell_type": "code",
   "execution_count": 9,
   "metadata": {},
   "outputs": [
    {
     "data": {
      "text/plain": [
       "35.852000000000004"
      ]
     },
     "execution_count": 9,
     "metadata": {},
     "output_type": "execute_result"
    }
   ],
   "source": [
    "np.percentile(test[\"area\"] , 0.1)"
   ]
  },
  {
   "cell_type": "code",
   "execution_count": 10,
   "metadata": {},
   "outputs": [],
   "source": [
    "test = test[(test[\"area\"] > 35) &(test[\"area\"] < 300) ].copy()"
   ]
  },
  {
   "cell_type": "code",
   "execution_count": 11,
   "metadata": {},
   "outputs": [
    {
     "data": {
      "text/plain": [
       "3029        100000\n",
       "2926       2350000\n",
       "3285       3000000\n",
       "1473       3118000\n",
       "5781       3118000\n",
       "           ...    \n",
       "2821     375000000\n",
       "3722     472727272\n",
       "821      679577464\n",
       "5168    1000000000\n",
       "751     1000000000\n",
       "Name: price, Length: 5525, dtype: int64"
      ]
     },
     "execution_count": 11,
     "metadata": {},
     "output_type": "execute_result"
    }
   ],
   "source": [
    "test[\"price\"].sort_values()"
   ]
  },
  {
   "cell_type": "code",
   "execution_count": 12,
   "metadata": {},
   "outputs": [
    {
     "data": {
      "text/plain": [
       "230200000.0"
      ]
     },
     "execution_count": 12,
     "metadata": {},
     "output_type": "execute_result"
    }
   ],
   "source": [
    "np.percentile(test[\"price\"] , 99)"
   ]
  },
  {
   "cell_type": "code",
   "execution_count": 13,
   "metadata": {},
   "outputs": [
    {
     "data": {
      "text/plain": [
       "12500000.0"
      ]
     },
     "execution_count": 13,
     "metadata": {},
     "output_type": "execute_result"
    }
   ],
   "source": [
    "np.percentile(test[\"price\"] , 1)"
   ]
  },
  {
   "cell_type": "code",
   "execution_count": 14,
   "metadata": {},
   "outputs": [],
   "source": [
    "test = test[(test[\"price\"] > 12500000.0) &(test[\"price\"] < 230200000.0) ].copy()"
   ]
  },
  {
   "cell_type": "code",
   "execution_count": null,
   "metadata": {},
   "outputs": [],
   "source": []
  },
  {
   "cell_type": "code",
   "execution_count": 15,
   "metadata": {},
   "outputs": [
    {
     "data": {
      "text/plain": [
       "build_year                 0\n",
       "neighbour_hood             3\n",
       "area                       0\n",
       "floor                      0\n",
       "rooms                      0\n",
       "Parking                    0\n",
       "Elevator                   0\n",
       "Warehouse                  0\n",
       "Luxury_features            0\n",
       "price                      0\n",
       "mean                      10\n",
       "std                       28\n",
       "median                    10\n",
       "amin                      10\n",
       "amax                      10\n",
       "neighbour_hood_encoded     0\n",
       "dtype: int64"
      ]
     },
     "execution_count": 15,
     "metadata": {},
     "output_type": "execute_result"
    }
   ],
   "source": [
    "test.isna().sum()"
   ]
  },
  {
   "cell_type": "code",
   "execution_count": 16,
   "metadata": {},
   "outputs": [],
   "source": [
    "drop_ind = test[test[\"neighbour_hood_encoded\"]==-1].index\n",
    "test.drop(drop_ind , axis= 0 , inplace=True)"
   ]
  },
  {
   "cell_type": "code",
   "execution_count": 17,
   "metadata": {},
   "outputs": [
    {
     "data": {
      "text/plain": [
       "build_year                 0\n",
       "neighbour_hood             0\n",
       "area                       0\n",
       "floor                      0\n",
       "rooms                      0\n",
       "Parking                    0\n",
       "Elevator                   0\n",
       "Warehouse                  0\n",
       "Luxury_features            0\n",
       "price                      0\n",
       "mean                       0\n",
       "std                       18\n",
       "median                     0\n",
       "amin                       0\n",
       "amax                       0\n",
       "neighbour_hood_encoded     0\n",
       "dtype: int64"
      ]
     },
     "execution_count": 17,
     "metadata": {},
     "output_type": "execute_result"
    }
   ],
   "source": [
    "test.isna().sum()"
   ]
  },
  {
   "cell_type": "code",
   "execution_count": 18,
   "metadata": {},
   "outputs": [],
   "source": [
    "test.fillna(0 , inplace= True)\n",
    "X_test = test.drop([\"price\" , \"neighbour_hood\"] , axis=1)\n",
    "y_test = test[\"price\"]\n"
   ]
  },
  {
   "attachments": {},
   "cell_type": "markdown",
   "metadata": {},
   "source": [
    "# Model 1: simple Linear Regression"
   ]
  },
  {
   "cell_type": "code",
   "execution_count": 19,
   "metadata": {},
   "outputs": [],
   "source": [
    "model = LinearRegression()\n",
    "model.fit(X_train , y_train)\n",
    "y_pred_train = model.predict(X_train)\n",
    "y_pred = model.predict(X_test)"
   ]
  },
  {
   "cell_type": "code",
   "execution_count": 20,
   "metadata": {},
   "outputs": [
    {
     "data": {
      "text/plain": [
       "14017696.788173012"
      ]
     },
     "execution_count": 20,
     "metadata": {},
     "output_type": "execute_result"
    }
   ],
   "source": [
    "mean_absolute_error(y_pred = y_pred , y_true= y_test)"
   ]
  },
  {
   "cell_type": "code",
   "execution_count": 21,
   "metadata": {},
   "outputs": [
    {
     "data": {
      "text/plain": [
       "13236664.427022291"
      ]
     },
     "execution_count": 21,
     "metadata": {},
     "output_type": "execute_result"
    }
   ],
   "source": [
    "mean_absolute_error(y_pred = y_pred_train , y_true= y_train)"
   ]
  },
  {
   "cell_type": "code",
   "execution_count": 22,
   "metadata": {},
   "outputs": [
    {
     "data": {
      "text/plain": [
       "73037784.84105167"
      ]
     },
     "execution_count": 22,
     "metadata": {},
     "output_type": "execute_result"
    }
   ],
   "source": [
    "y_train.mean()"
   ]
  },
  {
   "cell_type": "code",
   "execution_count": 23,
   "metadata": {},
   "outputs": [
    {
     "data": {
      "text/plain": [
       "0.1919239037530916"
      ]
     },
     "execution_count": 23,
     "metadata": {},
     "output_type": "execute_result"
    }
   ],
   "source": [
    "mean_absolute_error(y_pred = y_pred , y_true= y_test)/y_train.mean()"
   ]
  },
  {
   "attachments": {},
   "cell_type": "markdown",
   "metadata": {},
   "source": [
    "# Model 2: simple Linear Regression + Scaling"
   ]
  },
  {
   "cell_type": "code",
   "execution_count": 24,
   "metadata": {},
   "outputs": [],
   "source": [
    "scaler = StandardScaler()\n",
    "X_train_scaled_minmax = scaler.fit_transform(X_train)\n",
    "X_test_scaled_minmax = scaler.transform(X_test)\n",
    "\n",
    "model = LinearRegression()\n",
    "model.fit(X_train_scaled_minmax , y_train)\n",
    "y_pred_train = model.predict(X_train_scaled_minmax)\n",
    "y_pred = model.predict(X_test_scaled_minmax)"
   ]
  },
  {
   "cell_type": "code",
   "execution_count": 25,
   "metadata": {},
   "outputs": [
    {
     "data": {
      "text/plain": [
       "14017696.787927654"
      ]
     },
     "execution_count": 25,
     "metadata": {},
     "output_type": "execute_result"
    }
   ],
   "source": [
    "mean_absolute_error(y_pred = y_pred , y_true= y_test)"
   ]
  },
  {
   "cell_type": "code",
   "execution_count": 26,
   "metadata": {},
   "outputs": [
    {
     "data": {
      "text/plain": [
       "13236664.426895365"
      ]
     },
     "execution_count": 26,
     "metadata": {},
     "output_type": "execute_result"
    }
   ],
   "source": [
    "mean_absolute_error(y_pred = y_pred_train , y_true= y_train)"
   ]
  },
  {
   "cell_type": "code",
   "execution_count": 27,
   "metadata": {},
   "outputs": [
    {
     "data": {
      "text/plain": [
       "73037784.84105167"
      ]
     },
     "execution_count": 27,
     "metadata": {},
     "output_type": "execute_result"
    }
   ],
   "source": [
    "y_train.mean()"
   ]
  },
  {
   "cell_type": "code",
   "execution_count": 28,
   "metadata": {},
   "outputs": [
    {
     "data": {
      "text/plain": [
       "0.19192390374973226"
      ]
     },
     "execution_count": 28,
     "metadata": {},
     "output_type": "execute_result"
    }
   ],
   "source": [
    "mean_absolute_error(y_pred = y_pred , y_true= y_test)/y_train.mean()"
   ]
  },
  {
   "attachments": {},
   "cell_type": "markdown",
   "metadata": {},
   "source": [
    "# Model 3: simple Linear Regression+Polynomial + Scaling"
   ]
  },
  {
   "cell_type": "code",
   "execution_count": 29,
   "metadata": {},
   "outputs": [],
   "source": [
    "pf = PolynomialFeatures(degree=2 , interaction_only= True , include_bias= False)\n"
   ]
  },
  {
   "cell_type": "code",
   "execution_count": 30,
   "metadata": {},
   "outputs": [],
   "source": [
    "\n",
    "scaler = StandardScaler()\n",
    "X_train_scaled_minmax = pf.fit_transform(X_train)\n",
    "X_test_scaled_minmax = pf.fit_transform(X_test)\n",
    "X_train_scaled_minmax = scaler.fit_transform(X_train_scaled_minmax)\n",
    "X_test_scaled_minmax = scaler.transform(X_test_scaled_minmax)\n",
    "\n",
    "\n",
    "model = LinearRegression()\n",
    "model.fit(X_train_scaled_minmax , y_train)\n",
    "y_pred_train = model.predict(X_train_scaled_minmax)\n",
    "y_pred = model.predict(X_test_scaled_minmax)"
   ]
  },
  {
   "cell_type": "code",
   "execution_count": 31,
   "metadata": {},
   "outputs": [
    {
     "data": {
      "text/plain": [
       "12545391.68120321"
      ]
     },
     "execution_count": 31,
     "metadata": {},
     "output_type": "execute_result"
    }
   ],
   "source": [
    "mean_absolute_error(y_pred = y_pred , y_true= y_test)"
   ]
  },
  {
   "cell_type": "code",
   "execution_count": 32,
   "metadata": {},
   "outputs": [
    {
     "data": {
      "text/plain": [
       "11803082.682680445"
      ]
     },
     "execution_count": 32,
     "metadata": {},
     "output_type": "execute_result"
    }
   ],
   "source": [
    "mean_absolute_error(y_pred = y_pred_train , y_true= y_train)"
   ]
  },
  {
   "cell_type": "code",
   "execution_count": 33,
   "metadata": {},
   "outputs": [
    {
     "data": {
      "text/plain": [
       "73037784.84105167"
      ]
     },
     "execution_count": 33,
     "metadata": {},
     "output_type": "execute_result"
    }
   ],
   "source": [
    "y_train.mean()"
   ]
  },
  {
   "cell_type": "code",
   "execution_count": 34,
   "metadata": {},
   "outputs": [
    {
     "data": {
      "text/plain": [
       "0.828234225497048"
      ]
     },
     "execution_count": 34,
     "metadata": {},
     "output_type": "execute_result"
    }
   ],
   "source": [
    "1 - mean_absolute_error(y_pred = y_pred , y_true= y_test)/y_train.mean()"
   ]
  },
  {
   "attachments": {},
   "cell_type": "markdown",
   "metadata": {},
   "source": [
    "# Model 4: Ridge+Polynomial + Scaling"
   ]
  },
  {
   "cell_type": "code",
   "execution_count": 41,
   "metadata": {},
   "outputs": [],
   "source": [
    "pf = PolynomialFeatures(degree=2 , interaction_only= True , include_bias= False)\n"
   ]
  },
  {
   "cell_type": "code",
   "execution_count": 42,
   "metadata": {},
   "outputs": [],
   "source": [
    "\n",
    "scaler = StandardScaler()\n",
    "X_train_scaled_minmax = pf.fit_transform(X_train)\n",
    "X_test_scaled_minmax = pf.fit_transform(X_test)\n",
    "X_train_scaled_minmax = scaler.fit_transform(X_train_scaled_minmax)\n",
    "X_test_scaled_minmax = scaler.transform(X_test_scaled_minmax)\n",
    "\n",
    "\n",
    "model = Lasso(alpha=10000 , max_iter=10000000 , tol= 0.01)\n",
    "model.fit(X_train_scaled_minmax , y_train)\n",
    "y_pred_train = model.predict(X_train_scaled_minmax)\n",
    "y_pred = model.predict(X_test_scaled_minmax)"
   ]
  },
  {
   "cell_type": "code",
   "execution_count": 37,
   "metadata": {},
   "outputs": [
    {
     "data": {
      "text/plain": [
       "array([ 7.52471764e+06, -1.54919055e+07, -0.00000000e+00, -0.00000000e+00,\n",
       "       -0.00000000e+00, -4.21439616e+06,  0.00000000e+00, -2.44224305e+06,\n",
       "       -6.24865463e+05, -8.81955713e+06, -0.00000000e+00,  0.00000000e+00,\n",
       "       -2.10885200e+06, -0.00000000e+00,  8.55215352e+06, -3.36328862e+06,\n",
       "        5.17216787e+05,  0.00000000e+00, -0.00000000e+00,  5.40507104e+04,\n",
       "       -0.00000000e+00,  2.48489631e+07,  0.00000000e+00,  1.71306480e+06,\n",
       "        2.09384126e+05,  0.00000000e+00,  1.35903347e+06,  2.19290965e+06,\n",
       "        3.39580289e+06, -1.37280336e+06, -1.39608658e+06, -1.04429098e+06,\n",
       "        5.99505312e+05, -7.65459792e+06,  2.30930501e+07, -0.00000000e+00,\n",
       "       -1.15375376e+06,  5.07252722e+06,  1.19499899e+06, -3.64143946e+06,\n",
       "        4.79440865e+06, -0.00000000e+00, -2.45979733e+06, -1.47471723e+06,\n",
       "        0.00000000e+00, -1.17149447e+06,  0.00000000e+00,  1.86695685e+06,\n",
       "        1.07916512e+06,  1.16008612e+06,  5.94545759e+04,  8.63382173e+05,\n",
       "        6.92042033e+04,  4.81687012e+05, -4.99970869e+06, -0.00000000e+00,\n",
       "       -0.00000000e+00,  3.83612545e+05, -0.00000000e+00,  4.85460220e+05,\n",
       "        0.00000000e+00,  2.41981818e+05, -2.64651230e+06,  4.49691816e+06,\n",
       "        4.21742554e+05,  6.33240486e+05, -5.11120004e+05, -3.62174859e+06,\n",
       "        0.00000000e+00,  9.89746604e+05,  1.50126038e+05,  0.00000000e+00,\n",
       "        0.00000000e+00,  0.00000000e+00, -3.67602187e+05, -9.07910636e+05,\n",
       "        4.34365486e+06,  2.36712058e+06,  6.53842290e+05, -1.10832729e+06,\n",
       "        0.00000000e+00, -0.00000000e+00, -6.31638998e+05,  8.17955757e+03,\n",
       "       -0.00000000e+00, -2.61873812e+05, -7.02625408e+05,  1.63419623e+05,\n",
       "        5.45370291e+06, -3.22548487e+05, -6.72659349e+06,  0.00000000e+00,\n",
       "        1.09131757e+06,  0.00000000e+00, -2.76382417e+06, -0.00000000e+00,\n",
       "        0.00000000e+00, -2.52524314e+06, -0.00000000e+00,  6.84212323e+04,\n",
       "        0.00000000e+00, -0.00000000e+00, -1.11019073e+06,  0.00000000e+00,\n",
       "        7.56284762e+06])"
      ]
     },
     "execution_count": 37,
     "metadata": {},
     "output_type": "execute_result"
    }
   ],
   "source": [
    "model.coef_"
   ]
  },
  {
   "cell_type": "code",
   "execution_count": 215,
   "metadata": {},
   "outputs": [
    {
     "data": {
      "text/plain": [
       "13114677.032274464"
      ]
     },
     "execution_count": 215,
     "metadata": {},
     "output_type": "execute_result"
    }
   ],
   "source": [
    "mean_absolute_error(y_pred = y_pred , y_true= y_test)"
   ]
  },
  {
   "cell_type": "code",
   "execution_count": 39,
   "metadata": {},
   "outputs": [
    {
     "data": {
      "text/plain": [
       "12271475.980353104"
      ]
     },
     "execution_count": 39,
     "metadata": {},
     "output_type": "execute_result"
    }
   ],
   "source": [
    "mean_absolute_error(y_pred = y_pred_train , y_true= y_train)"
   ]
  },
  {
   "cell_type": "code",
   "execution_count": 217,
   "metadata": {},
   "outputs": [
    {
     "data": {
      "text/plain": [
       "73037784.84105167"
      ]
     },
     "execution_count": 217,
     "metadata": {},
     "output_type": "execute_result"
    }
   ],
   "source": [
    "y_train.mean()"
   ]
  },
  {
   "cell_type": "code",
   "execution_count": 40,
   "metadata": {},
   "outputs": [
    {
     "data": {
      "text/plain": [
       "0.8209214867378558"
      ]
     },
     "execution_count": 40,
     "metadata": {},
     "output_type": "execute_result"
    }
   ],
   "source": [
    "1 - mean_absolute_error(y_pred = y_pred , y_true= y_test)/y_train.mean()"
   ]
  },
  {
   "cell_type": "code",
   "execution_count": 194,
   "metadata": {},
   "outputs": [
    {
     "data": {
      "text/plain": [
       "0.7396207432908164"
      ]
     },
     "execution_count": 194,
     "metadata": {},
     "output_type": "execute_result"
    }
   ],
   "source": [
    "r2_score(y_pred = y_pred , y_true= y_test)"
   ]
  },
  {
   "cell_type": "code",
   "execution_count": null,
   "metadata": {},
   "outputs": [
    {
     "data": {
      "text/plain": [
       "2310"
      ]
     },
     "metadata": {},
     "output_type": "display_data"
    }
   ],
   "source": [
    "np.argmin(np.abs(y_pred - y_test))"
   ]
  },
  {
   "cell_type": "code",
   "execution_count": null,
   "metadata": {},
   "outputs": [
    {
     "data": {
      "text/plain": [
       "3974.8389780297875"
      ]
     },
     "metadata": {},
     "output_type": "display_data"
    }
   ],
   "source": [
    "np.min(np.abs(y_pred - y_test))"
   ]
  },
  {
   "cell_type": "code",
   "execution_count": null,
   "metadata": {},
   "outputs": [
    {
     "data": {
      "text/plain": [
       "1909"
      ]
     },
     "metadata": {},
     "output_type": "display_data"
    }
   ],
   "source": [
    "np.argmax(np.abs(y_pred - y_test))"
   ]
  },
  {
   "cell_type": "code",
   "execution_count": null,
   "metadata": {},
   "outputs": [
    {
     "data": {
      "text/plain": [
       "127345541.43240748"
      ]
     },
     "metadata": {},
     "output_type": "display_data"
    }
   ],
   "source": [
    "np.max(np.abs(y_pred - y_test))"
   ]
  },
  {
   "cell_type": "code",
   "execution_count": null,
   "metadata": {},
   "outputs": [
    {
     "data": {
      "text/plain": [
       "build_year                           1396\n",
       "neighbour_hood                      مهران\n",
       "area                                  126\n",
       "floor                                 1.0\n",
       "rooms                                   2\n",
       "Parking                                 1\n",
       "Elevator                                1\n",
       "Warehouse                               1\n",
       "Luxury_features                         0\n",
       "price                            60317000\n",
       "mean                      64591103.894737\n",
       "std                        10707892.44523\n",
       "median                         63942307.0\n",
       "amin                           44705882.0\n",
       "amax                          109914000.0\n",
       "neighbour_hood_encoded                 13\n",
       "Name: 1909, dtype: object"
      ]
     },
     "metadata": {},
     "output_type": "display_data"
    }
   ],
   "source": [
    "test.iloc[1909]"
   ]
  },
  {
   "cell_type": "code",
   "execution_count": null,
   "metadata": {},
   "outputs": [
    {
     "data": {
      "text/plain": [
       "60317000"
      ]
     },
     "metadata": {},
     "output_type": "display_data"
    }
   ],
   "source": [
    "y_test.loc[1909]"
   ]
  },
  {
   "cell_type": "code",
   "execution_count": null,
   "metadata": {},
   "outputs": [
    {
     "data": {
      "text/plain": [
       "100121172.1567611"
      ]
     },
     "metadata": {},
     "output_type": "display_data"
    }
   ],
   "source": [
    "y_pred[1909]"
   ]
  },
  {
   "cell_type": "code",
   "execution_count": null,
   "metadata": {},
   "outputs": [],
   "source": []
  }
 ],
 "metadata": {
  "kernelspec": {
   "display_name": "base",
   "language": "python",
   "name": "python3"
  },
  "language_info": {
   "codemirror_mode": {
    "name": "ipython",
    "version": 3
   },
   "file_extension": ".py",
   "mimetype": "text/x-python",
   "name": "python",
   "nbconvert_exporter": "python",
   "pygments_lexer": "ipython3",
   "version": "3.9.7"
  },
  "orig_nbformat": 4,
  "vscode": {
   "interpreter": {
    "hash": "7287290b0480c475e07faa8d8f2642b950c35b54c7904c27a4cb3f03b8542e7d"
   }
  }
 },
 "nbformat": 4,
 "nbformat_minor": 2
}
