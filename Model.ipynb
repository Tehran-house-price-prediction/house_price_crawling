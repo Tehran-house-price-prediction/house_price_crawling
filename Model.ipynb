{
 "cells": [
  {
   "cell_type": "code",
   "execution_count": 137,
   "metadata": {},
   "outputs": [],
   "source": [
    "import pandas as pd\n",
    "from sklearn.preprocessing import LabelEncoder , MinMaxScaler , StandardScaler , PolynomialFeatures \n",
    "from sklearn.linear_model import LinearRegression , Lasso , Ridge , SGDRegressor , ElasticNet\n",
    "from sklearn.neighbors import KNeighborsRegressor\n",
    "import matplotlib.pyplot as plt\n",
    "from sklearn.metrics import mean_absolute_error , mean_squared_error , r2_score \n",
    "import seaborn as sns\n",
    "import numpy as np\n",
    "import warnings\n",
    "warnings.filterwarnings('ignore')"
   ]
  },
  {
   "cell_type": "code",
   "execution_count": 28,
   "metadata": {},
   "outputs": [],
   "source": [
    "train = pd.read_csv(\"train_v2.csv\")\n"
   ]
  },
  {
   "cell_type": "code",
   "execution_count": 29,
   "metadata": {},
   "outputs": [],
   "source": [
    "test = pd.read_csv(\"test_v2.csv\")\n"
   ]
  },
  {
   "cell_type": "code",
   "execution_count": 30,
   "metadata": {},
   "outputs": [
    {
     "data": {
      "text/plain": [
       "build_year                 0\n",
       "area                       0\n",
       "floor                      0\n",
       "rooms                      0\n",
       "Parking                    0\n",
       "Elevator                   0\n",
       "Warehouse                  0\n",
       "Luxury_features            0\n",
       "mean                       0\n",
       "std                       50\n",
       "median                     0\n",
       "amin                       0\n",
       "amax                       0\n",
       "neighbour_hood_encoded     0\n",
       "dtype: int64"
      ]
     },
     "execution_count": 30,
     "metadata": {},
     "output_type": "execute_result"
    }
   ],
   "source": [
    "X_train.isna().sum()"
   ]
  },
  {
   "cell_type": "code",
   "execution_count": 31,
   "metadata": {},
   "outputs": [],
   "source": [
    "X_train.fillna(0 , inplace=True)\n"
   ]
  },
  {
   "attachments": {},
   "cell_type": "markdown",
   "metadata": {},
   "source": [
    "# Drop outliers from test"
   ]
  },
  {
   "cell_type": "code",
   "execution_count": 32,
   "metadata": {},
   "outputs": [
    {
     "data": {
      "text/html": [
       "<div>\n",
       "<style scoped>\n",
       "    .dataframe tbody tr th:only-of-type {\n",
       "        vertical-align: middle;\n",
       "    }\n",
       "\n",
       "    .dataframe tbody tr th {\n",
       "        vertical-align: top;\n",
       "    }\n",
       "\n",
       "    .dataframe thead th {\n",
       "        text-align: right;\n",
       "    }\n",
       "</style>\n",
       "<table border=\"1\" class=\"dataframe\">\n",
       "  <thead>\n",
       "    <tr style=\"text-align: right;\">\n",
       "      <th></th>\n",
       "      <th>build_year</th>\n",
       "      <th>area</th>\n",
       "      <th>floor</th>\n",
       "      <th>rooms</th>\n",
       "      <th>Parking</th>\n",
       "      <th>Elevator</th>\n",
       "      <th>Warehouse</th>\n",
       "      <th>Luxury_features</th>\n",
       "      <th>price</th>\n",
       "      <th>mean</th>\n",
       "      <th>std</th>\n",
       "      <th>median</th>\n",
       "      <th>amin</th>\n",
       "      <th>amax</th>\n",
       "      <th>neighbour_hood_encoded</th>\n",
       "    </tr>\n",
       "  </thead>\n",
       "  <tbody>\n",
       "    <tr>\n",
       "      <th>count</th>\n",
       "      <td>5853.000000</td>\n",
       "      <td>5853.000000</td>\n",
       "      <td>5853.000000</td>\n",
       "      <td>5853.000000</td>\n",
       "      <td>5853.000000</td>\n",
       "      <td>5853.000000</td>\n",
       "      <td>5853.000000</td>\n",
       "      <td>5853.000000</td>\n",
       "      <td>5.853000e+03</td>\n",
       "      <td>5.840000e+03</td>\n",
       "      <td>5.821000e+03</td>\n",
       "      <td>5.840000e+03</td>\n",
       "      <td>5.840000e+03</td>\n",
       "      <td>5.840000e+03</td>\n",
       "      <td>5853.000000</td>\n",
       "    </tr>\n",
       "    <tr>\n",
       "      <th>mean</th>\n",
       "      <td>1393.184521</td>\n",
       "      <td>139.908252</td>\n",
       "      <td>4.371604</td>\n",
       "      <td>2.389031</td>\n",
       "      <td>0.659320</td>\n",
       "      <td>0.626175</td>\n",
       "      <td>0.588758</td>\n",
       "      <td>0.202973</td>\n",
       "      <td>8.644855e+07</td>\n",
       "      <td>7.800058e+07</td>\n",
       "      <td>2.029221e+07</td>\n",
       "      <td>7.620234e+07</td>\n",
       "      <td>2.482350e+07</td>\n",
       "      <td>1.402287e+08</td>\n",
       "      <td>14.283957</td>\n",
       "    </tr>\n",
       "    <tr>\n",
       "      <th>std</th>\n",
       "      <td>7.333277</td>\n",
       "      <td>162.836499</td>\n",
       "      <td>5.887542</td>\n",
       "      <td>0.801909</td>\n",
       "      <td>0.473978</td>\n",
       "      <td>0.483859</td>\n",
       "      <td>0.492101</td>\n",
       "      <td>0.402247</td>\n",
       "      <td>1.263279e+08</td>\n",
       "      <td>2.984214e+07</td>\n",
       "      <td>9.445204e+06</td>\n",
       "      <td>2.881349e+07</td>\n",
       "      <td>1.967649e+07</td>\n",
       "      <td>5.198462e+07</td>\n",
       "      <td>5.322865</td>\n",
       "    </tr>\n",
       "    <tr>\n",
       "      <th>min</th>\n",
       "      <td>1362.000000</td>\n",
       "      <td>1.000000</td>\n",
       "      <td>0.000000</td>\n",
       "      <td>1.000000</td>\n",
       "      <td>0.000000</td>\n",
       "      <td>0.000000</td>\n",
       "      <td>0.000000</td>\n",
       "      <td>0.000000</td>\n",
       "      <td>1.000000e+05</td>\n",
       "      <td>1.000000e+07</td>\n",
       "      <td>0.000000e+00</td>\n",
       "      <td>1.000000e+07</td>\n",
       "      <td>8.432200e+05</td>\n",
       "      <td>1.000000e+07</td>\n",
       "      <td>-1.000000</td>\n",
       "    </tr>\n",
       "    <tr>\n",
       "      <th>25%</th>\n",
       "      <td>1387.000000</td>\n",
       "      <td>85.000000</td>\n",
       "      <td>2.000000</td>\n",
       "      <td>2.000000</td>\n",
       "      <td>0.000000</td>\n",
       "      <td>0.000000</td>\n",
       "      <td>0.000000</td>\n",
       "      <td>0.000000</td>\n",
       "      <td>5.436400e+07</td>\n",
       "      <td>5.934115e+07</td>\n",
       "      <td>1.217463e+07</td>\n",
       "      <td>5.954545e+07</td>\n",
       "      <td>8.783783e+06</td>\n",
       "      <td>9.670000e+07</td>\n",
       "      <td>12.000000</td>\n",
       "    </tr>\n",
       "    <tr>\n",
       "      <th>50%</th>\n",
       "      <td>1395.000000</td>\n",
       "      <td>115.000000</td>\n",
       "      <td>3.000000</td>\n",
       "      <td>2.000000</td>\n",
       "      <td>1.000000</td>\n",
       "      <td>1.000000</td>\n",
       "      <td>1.000000</td>\n",
       "      <td>0.000000</td>\n",
       "      <td>7.303371e+07</td>\n",
       "      <td>8.021010e+07</td>\n",
       "      <td>1.699174e+07</td>\n",
       "      <td>7.741900e+07</td>\n",
       "      <td>1.650000e+07</td>\n",
       "      <td>1.313131e+08</td>\n",
       "      <td>16.000000</td>\n",
       "    </tr>\n",
       "    <tr>\n",
       "      <th>75%</th>\n",
       "      <td>1400.000000</td>\n",
       "      <td>158.000000</td>\n",
       "      <td>5.000000</td>\n",
       "      <td>3.000000</td>\n",
       "      <td>1.000000</td>\n",
       "      <td>1.000000</td>\n",
       "      <td>1.000000</td>\n",
       "      <td>0.000000</td>\n",
       "      <td>1.000000e+08</td>\n",
       "      <td>9.182152e+07</td>\n",
       "      <td>2.978417e+07</td>\n",
       "      <td>8.928571e+07</td>\n",
       "      <td>4.210000e+07</td>\n",
       "      <td>2.000000e+08</td>\n",
       "      <td>18.000000</td>\n",
       "    </tr>\n",
       "    <tr>\n",
       "      <th>max</th>\n",
       "      <td>1402.000000</td>\n",
       "      <td>10000.000000</td>\n",
       "      <td>146.000000</td>\n",
       "      <td>10.000000</td>\n",
       "      <td>1.000000</td>\n",
       "      <td>1.000000</td>\n",
       "      <td>1.000000</td>\n",
       "      <td>1.000000</td>\n",
       "      <td>8.800000e+09</td>\n",
       "      <td>1.516000e+08</td>\n",
       "      <td>5.451752e+07</td>\n",
       "      <td>1.624000e+08</td>\n",
       "      <td>1.350000e+08</td>\n",
       "      <td>2.047000e+08</td>\n",
       "      <td>21.000000</td>\n",
       "    </tr>\n",
       "  </tbody>\n",
       "</table>\n",
       "</div>"
      ],
      "text/plain": [
       "        build_year          area        floor        rooms      Parking  \\\n",
       "count  5853.000000   5853.000000  5853.000000  5853.000000  5853.000000   \n",
       "mean   1393.184521    139.908252     4.371604     2.389031     0.659320   \n",
       "std       7.333277    162.836499     5.887542     0.801909     0.473978   \n",
       "min    1362.000000      1.000000     0.000000     1.000000     0.000000   \n",
       "25%    1387.000000     85.000000     2.000000     2.000000     0.000000   \n",
       "50%    1395.000000    115.000000     3.000000     2.000000     1.000000   \n",
       "75%    1400.000000    158.000000     5.000000     3.000000     1.000000   \n",
       "max    1402.000000  10000.000000   146.000000    10.000000     1.000000   \n",
       "\n",
       "          Elevator    Warehouse  Luxury_features         price          mean  \\\n",
       "count  5853.000000  5853.000000      5853.000000  5.853000e+03  5.840000e+03   \n",
       "mean      0.626175     0.588758         0.202973  8.644855e+07  7.800058e+07   \n",
       "std       0.483859     0.492101         0.402247  1.263279e+08  2.984214e+07   \n",
       "min       0.000000     0.000000         0.000000  1.000000e+05  1.000000e+07   \n",
       "25%       0.000000     0.000000         0.000000  5.436400e+07  5.934115e+07   \n",
       "50%       1.000000     1.000000         0.000000  7.303371e+07  8.021010e+07   \n",
       "75%       1.000000     1.000000         0.000000  1.000000e+08  9.182152e+07   \n",
       "max       1.000000     1.000000         1.000000  8.800000e+09  1.516000e+08   \n",
       "\n",
       "                std        median          amin          amax  \\\n",
       "count  5.821000e+03  5.840000e+03  5.840000e+03  5.840000e+03   \n",
       "mean   2.029221e+07  7.620234e+07  2.482350e+07  1.402287e+08   \n",
       "std    9.445204e+06  2.881349e+07  1.967649e+07  5.198462e+07   \n",
       "min    0.000000e+00  1.000000e+07  8.432200e+05  1.000000e+07   \n",
       "25%    1.217463e+07  5.954545e+07  8.783783e+06  9.670000e+07   \n",
       "50%    1.699174e+07  7.741900e+07  1.650000e+07  1.313131e+08   \n",
       "75%    2.978417e+07  8.928571e+07  4.210000e+07  2.000000e+08   \n",
       "max    5.451752e+07  1.624000e+08  1.350000e+08  2.047000e+08   \n",
       "\n",
       "       neighbour_hood_encoded  \n",
       "count             5853.000000  \n",
       "mean                14.283957  \n",
       "std                  5.322865  \n",
       "min                 -1.000000  \n",
       "25%                 12.000000  \n",
       "50%                 16.000000  \n",
       "75%                 18.000000  \n",
       "max                 21.000000  "
      ]
     },
     "execution_count": 32,
     "metadata": {},
     "output_type": "execute_result"
    }
   ],
   "source": [
    "test.describe()"
   ]
  },
  {
   "cell_type": "code",
   "execution_count": 33,
   "metadata": {},
   "outputs": [
    {
     "data": {
      "text/plain": [
       "1253        1\n",
       "2801       15\n",
       "5040       20\n",
       "1402       20\n",
       "5780       35\n",
       "        ...  \n",
       "1491     1200\n",
       "2055     1500\n",
       "275      1533\n",
       "5622     2900\n",
       "5582    10000\n",
       "Name: area, Length: 5853, dtype: int64"
      ]
     },
     "execution_count": 33,
     "metadata": {},
     "output_type": "execute_result"
    }
   ],
   "source": [
    "test[\"area\"].sort_values()"
   ]
  },
  {
   "cell_type": "code",
   "execution_count": 34,
   "metadata": {},
   "outputs": [
    {
     "data": {
      "text/plain": [
       "300.0"
      ]
     },
     "execution_count": 34,
     "metadata": {},
     "output_type": "execute_result"
    }
   ],
   "source": [
    "np.percentile(test[\"area\"] , 95)"
   ]
  },
  {
   "cell_type": "code",
   "execution_count": 35,
   "metadata": {},
   "outputs": [
    {
     "data": {
      "text/plain": [
       "35.852000000000004"
      ]
     },
     "execution_count": 35,
     "metadata": {},
     "output_type": "execute_result"
    }
   ],
   "source": [
    "np.percentile(test[\"area\"] , 0.1)"
   ]
  },
  {
   "cell_type": "code",
   "execution_count": 36,
   "metadata": {},
   "outputs": [],
   "source": [
    "test = test[(test[\"area\"] > 35) &(test[\"area\"] < 300) ].copy()"
   ]
  },
  {
   "cell_type": "code",
   "execution_count": 37,
   "metadata": {},
   "outputs": [
    {
     "data": {
      "text/plain": [
       "3029        100000\n",
       "2926       2350000\n",
       "3285       3000000\n",
       "1473       3118000\n",
       "5781       3118000\n",
       "           ...    \n",
       "2821     375000000\n",
       "3722     472727272\n",
       "821      679577464\n",
       "5168    1000000000\n",
       "751     1000000000\n",
       "Name: price, Length: 5525, dtype: int64"
      ]
     },
     "execution_count": 37,
     "metadata": {},
     "output_type": "execute_result"
    }
   ],
   "source": [
    "test[\"price\"].sort_values()"
   ]
  },
  {
   "cell_type": "code",
   "execution_count": 38,
   "metadata": {},
   "outputs": [
    {
     "data": {
      "text/plain": [
       "230200000.0"
      ]
     },
     "execution_count": 38,
     "metadata": {},
     "output_type": "execute_result"
    }
   ],
   "source": [
    "np.percentile(test[\"price\"] , 99)"
   ]
  },
  {
   "cell_type": "code",
   "execution_count": 39,
   "metadata": {},
   "outputs": [
    {
     "data": {
      "text/plain": [
       "12500000.0"
      ]
     },
     "execution_count": 39,
     "metadata": {},
     "output_type": "execute_result"
    }
   ],
   "source": [
    "np.percentile(test[\"price\"] , 1)"
   ]
  },
  {
   "cell_type": "code",
   "execution_count": 40,
   "metadata": {},
   "outputs": [],
   "source": [
    "test = test[(test[\"price\"] > 12500000.0) &(test[\"price\"] < 230200000.0) ].copy()"
   ]
  },
  {
   "cell_type": "code",
   "execution_count": null,
   "metadata": {},
   "outputs": [],
   "source": []
  },
  {
   "cell_type": "code",
   "execution_count": 41,
   "metadata": {},
   "outputs": [
    {
     "data": {
      "text/plain": [
       "build_year                 0\n",
       "neighbour_hood             3\n",
       "area                       0\n",
       "floor                      0\n",
       "rooms                      0\n",
       "Parking                    0\n",
       "Elevator                   0\n",
       "Warehouse                  0\n",
       "Luxury_features            0\n",
       "price                      0\n",
       "mean                      10\n",
       "std                       28\n",
       "median                    10\n",
       "amin                      10\n",
       "amax                      10\n",
       "neighbour_hood_encoded     0\n",
       "dtype: int64"
      ]
     },
     "execution_count": 41,
     "metadata": {},
     "output_type": "execute_result"
    }
   ],
   "source": [
    "test.isna().sum()"
   ]
  },
  {
   "cell_type": "code",
   "execution_count": 42,
   "metadata": {},
   "outputs": [],
   "source": [
    "drop_ind = test[test[\"neighbour_hood_encoded\"]==-1].index\n",
    "test.drop(drop_ind , axis= 0 , inplace=True)"
   ]
  },
  {
   "cell_type": "code",
   "execution_count": 43,
   "metadata": {},
   "outputs": [
    {
     "data": {
      "text/plain": [
       "build_year                 0\n",
       "neighbour_hood             0\n",
       "area                       0\n",
       "floor                      0\n",
       "rooms                      0\n",
       "Parking                    0\n",
       "Elevator                   0\n",
       "Warehouse                  0\n",
       "Luxury_features            0\n",
       "price                      0\n",
       "mean                       0\n",
       "std                       18\n",
       "median                     0\n",
       "amin                       0\n",
       "amax                       0\n",
       "neighbour_hood_encoded     0\n",
       "dtype: int64"
      ]
     },
     "execution_count": 43,
     "metadata": {},
     "output_type": "execute_result"
    }
   ],
   "source": [
    "test.isna().sum()"
   ]
  },
  {
   "cell_type": "code",
   "execution_count": 44,
   "metadata": {},
   "outputs": [],
   "source": [
    "test.fillna(0 , inplace= True)\n"
   ]
  },
  {
   "attachments": {},
   "cell_type": "markdown",
   "metadata": {},
   "source": [
    "# Final look at data distributions"
   ]
  },
  {
   "cell_type": "code",
   "execution_count": 45,
   "metadata": {},
   "outputs": [
    {
     "data": {
      "text/html": [
       "<div>\n",
       "<style scoped>\n",
       "    .dataframe tbody tr th:only-of-type {\n",
       "        vertical-align: middle;\n",
       "    }\n",
       "\n",
       "    .dataframe tbody tr th {\n",
       "        vertical-align: top;\n",
       "    }\n",
       "\n",
       "    .dataframe thead th {\n",
       "        text-align: right;\n",
       "    }\n",
       "</style>\n",
       "<table border=\"1\" class=\"dataframe\">\n",
       "  <thead>\n",
       "    <tr style=\"text-align: right;\">\n",
       "      <th></th>\n",
       "      <th>build_year</th>\n",
       "      <th>area</th>\n",
       "      <th>floor</th>\n",
       "      <th>rooms</th>\n",
       "      <th>Parking</th>\n",
       "      <th>Elevator</th>\n",
       "      <th>Warehouse</th>\n",
       "      <th>Luxury_features</th>\n",
       "      <th>price</th>\n",
       "      <th>mean</th>\n",
       "      <th>std</th>\n",
       "      <th>median</th>\n",
       "      <th>amin</th>\n",
       "      <th>amax</th>\n",
       "      <th>neighbour_hood_encoded</th>\n",
       "    </tr>\n",
       "  </thead>\n",
       "  <tbody>\n",
       "    <tr>\n",
       "      <th>count</th>\n",
       "      <td>5398.000000</td>\n",
       "      <td>5398.000000</td>\n",
       "      <td>5398.000000</td>\n",
       "      <td>5398.000000</td>\n",
       "      <td>5398.000000</td>\n",
       "      <td>5398.000000</td>\n",
       "      <td>5398.000000</td>\n",
       "      <td>5398.000000</td>\n",
       "      <td>5.398000e+03</td>\n",
       "      <td>5.398000e+03</td>\n",
       "      <td>5.398000e+03</td>\n",
       "      <td>5.398000e+03</td>\n",
       "      <td>5.398000e+03</td>\n",
       "      <td>5.398000e+03</td>\n",
       "      <td>5398.000000</td>\n",
       "    </tr>\n",
       "    <tr>\n",
       "      <th>mean</th>\n",
       "      <td>1392.877918</td>\n",
       "      <td>120.848833</td>\n",
       "      <td>4.160430</td>\n",
       "      <td>2.291034</td>\n",
       "      <td>0.645424</td>\n",
       "      <td>0.612449</td>\n",
       "      <td>0.582067</td>\n",
       "      <td>0.183957</td>\n",
       "      <td>7.724850e+07</td>\n",
       "      <td>7.554706e+07</td>\n",
       "      <td>1.942615e+07</td>\n",
       "      <td>7.382069e+07</td>\n",
       "      <td>2.431488e+07</td>\n",
       "      <td>1.367270e+08</td>\n",
       "      <td>14.054279</td>\n",
       "    </tr>\n",
       "    <tr>\n",
       "      <th>std</th>\n",
       "      <td>7.401162</td>\n",
       "      <td>51.453840</td>\n",
       "      <td>5.935779</td>\n",
       "      <td>0.706227</td>\n",
       "      <td>0.478429</td>\n",
       "      <td>0.487236</td>\n",
       "      <td>0.493265</td>\n",
       "      <td>0.387485</td>\n",
       "      <td>3.709063e+07</td>\n",
       "      <td>2.815654e+07</td>\n",
       "      <td>9.184905e+06</td>\n",
       "      <td>2.706834e+07</td>\n",
       "      <td>1.925334e+07</td>\n",
       "      <td>5.105301e+07</td>\n",
       "      <td>5.175860</td>\n",
       "    </tr>\n",
       "    <tr>\n",
       "      <th>min</th>\n",
       "      <td>1362.000000</td>\n",
       "      <td>36.000000</td>\n",
       "      <td>0.000000</td>\n",
       "      <td>1.000000</td>\n",
       "      <td>0.000000</td>\n",
       "      <td>0.000000</td>\n",
       "      <td>0.000000</td>\n",
       "      <td>0.000000</td>\n",
       "      <td>1.267400e+07</td>\n",
       "      <td>1.000000e+07</td>\n",
       "      <td>0.000000e+00</td>\n",
       "      <td>1.000000e+07</td>\n",
       "      <td>8.432200e+05</td>\n",
       "      <td>1.000000e+07</td>\n",
       "      <td>1.000000</td>\n",
       "    </tr>\n",
       "    <tr>\n",
       "      <th>25%</th>\n",
       "      <td>1386.000000</td>\n",
       "      <td>83.000000</td>\n",
       "      <td>2.000000</td>\n",
       "      <td>2.000000</td>\n",
       "      <td>0.000000</td>\n",
       "      <td>0.000000</td>\n",
       "      <td>0.000000</td>\n",
       "      <td>0.000000</td>\n",
       "      <td>5.391184e+07</td>\n",
       "      <td>5.809278e+07</td>\n",
       "      <td>1.179333e+07</td>\n",
       "      <td>5.896872e+07</td>\n",
       "      <td>8.700000e+06</td>\n",
       "      <td>9.166667e+07</td>\n",
       "      <td>12.000000</td>\n",
       "    </tr>\n",
       "    <tr>\n",
       "      <th>50%</th>\n",
       "      <td>1395.000000</td>\n",
       "      <td>110.000000</td>\n",
       "      <td>3.000000</td>\n",
       "      <td>2.000000</td>\n",
       "      <td>1.000000</td>\n",
       "      <td>1.000000</td>\n",
       "      <td>1.000000</td>\n",
       "      <td>0.000000</td>\n",
       "      <td>7.099400e+07</td>\n",
       "      <td>7.502276e+07</td>\n",
       "      <td>1.643520e+07</td>\n",
       "      <td>7.440000e+07</td>\n",
       "      <td>1.620000e+07</td>\n",
       "      <td>1.250000e+08</td>\n",
       "      <td>16.000000</td>\n",
       "    </tr>\n",
       "    <tr>\n",
       "      <th>75%</th>\n",
       "      <td>1400.000000</td>\n",
       "      <td>146.000000</td>\n",
       "      <td>5.000000</td>\n",
       "      <td>3.000000</td>\n",
       "      <td>1.000000</td>\n",
       "      <td>1.000000</td>\n",
       "      <td>1.000000</td>\n",
       "      <td>0.000000</td>\n",
       "      <td>9.187500e+07</td>\n",
       "      <td>8.659810e+07</td>\n",
       "      <td>2.978417e+07</td>\n",
       "      <td>8.460000e+07</td>\n",
       "      <td>4.210000e+07</td>\n",
       "      <td>2.000000e+08</td>\n",
       "      <td>17.000000</td>\n",
       "    </tr>\n",
       "    <tr>\n",
       "      <th>max</th>\n",
       "      <td>1402.000000</td>\n",
       "      <td>295.000000</td>\n",
       "      <td>146.000000</td>\n",
       "      <td>5.000000</td>\n",
       "      <td>1.000000</td>\n",
       "      <td>1.000000</td>\n",
       "      <td>1.000000</td>\n",
       "      <td>1.000000</td>\n",
       "      <td>2.300000e+08</td>\n",
       "      <td>1.516000e+08</td>\n",
       "      <td>5.451752e+07</td>\n",
       "      <td>1.624000e+08</td>\n",
       "      <td>1.350000e+08</td>\n",
       "      <td>2.047000e+08</td>\n",
       "      <td>21.000000</td>\n",
       "    </tr>\n",
       "  </tbody>\n",
       "</table>\n",
       "</div>"
      ],
      "text/plain": [
       "        build_year         area        floor        rooms      Parking  \\\n",
       "count  5398.000000  5398.000000  5398.000000  5398.000000  5398.000000   \n",
       "mean   1392.877918   120.848833     4.160430     2.291034     0.645424   \n",
       "std       7.401162    51.453840     5.935779     0.706227     0.478429   \n",
       "min    1362.000000    36.000000     0.000000     1.000000     0.000000   \n",
       "25%    1386.000000    83.000000     2.000000     2.000000     0.000000   \n",
       "50%    1395.000000   110.000000     3.000000     2.000000     1.000000   \n",
       "75%    1400.000000   146.000000     5.000000     3.000000     1.000000   \n",
       "max    1402.000000   295.000000   146.000000     5.000000     1.000000   \n",
       "\n",
       "          Elevator    Warehouse  Luxury_features         price          mean  \\\n",
       "count  5398.000000  5398.000000      5398.000000  5.398000e+03  5.398000e+03   \n",
       "mean      0.612449     0.582067         0.183957  7.724850e+07  7.554706e+07   \n",
       "std       0.487236     0.493265         0.387485  3.709063e+07  2.815654e+07   \n",
       "min       0.000000     0.000000         0.000000  1.267400e+07  1.000000e+07   \n",
       "25%       0.000000     0.000000         0.000000  5.391184e+07  5.809278e+07   \n",
       "50%       1.000000     1.000000         0.000000  7.099400e+07  7.502276e+07   \n",
       "75%       1.000000     1.000000         0.000000  9.187500e+07  8.659810e+07   \n",
       "max       1.000000     1.000000         1.000000  2.300000e+08  1.516000e+08   \n",
       "\n",
       "                std        median          amin          amax  \\\n",
       "count  5.398000e+03  5.398000e+03  5.398000e+03  5.398000e+03   \n",
       "mean   1.942615e+07  7.382069e+07  2.431488e+07  1.367270e+08   \n",
       "std    9.184905e+06  2.706834e+07  1.925334e+07  5.105301e+07   \n",
       "min    0.000000e+00  1.000000e+07  8.432200e+05  1.000000e+07   \n",
       "25%    1.179333e+07  5.896872e+07  8.700000e+06  9.166667e+07   \n",
       "50%    1.643520e+07  7.440000e+07  1.620000e+07  1.250000e+08   \n",
       "75%    2.978417e+07  8.460000e+07  4.210000e+07  2.000000e+08   \n",
       "max    5.451752e+07  1.624000e+08  1.350000e+08  2.047000e+08   \n",
       "\n",
       "       neighbour_hood_encoded  \n",
       "count             5398.000000  \n",
       "mean                14.054279  \n",
       "std                  5.175860  \n",
       "min                  1.000000  \n",
       "25%                 12.000000  \n",
       "50%                 16.000000  \n",
       "75%                 17.000000  \n",
       "max                 21.000000  "
      ]
     },
     "execution_count": 45,
     "metadata": {},
     "output_type": "execute_result"
    }
   ],
   "source": [
    "test.drop([ \"neighbour_hood\"] , axis=1).describe()"
   ]
  },
  {
   "cell_type": "code",
   "execution_count": 52,
   "metadata": {},
   "outputs": [],
   "source": [
    "drop_ind = test[test[\"floor\"] > 30].index\n",
    "test.drop(drop_ind , axis= 0 , inplace= True)"
   ]
  },
  {
   "cell_type": "code",
   "execution_count": 53,
   "metadata": {},
   "outputs": [
    {
     "data": {
      "text/html": [
       "<div>\n",
       "<style scoped>\n",
       "    .dataframe tbody tr th:only-of-type {\n",
       "        vertical-align: middle;\n",
       "    }\n",
       "\n",
       "    .dataframe tbody tr th {\n",
       "        vertical-align: top;\n",
       "    }\n",
       "\n",
       "    .dataframe thead th {\n",
       "        text-align: right;\n",
       "    }\n",
       "</style>\n",
       "<table border=\"1\" class=\"dataframe\">\n",
       "  <thead>\n",
       "    <tr style=\"text-align: right;\">\n",
       "      <th></th>\n",
       "      <th>build_year</th>\n",
       "      <th>area</th>\n",
       "      <th>floor</th>\n",
       "      <th>rooms</th>\n",
       "      <th>Parking</th>\n",
       "      <th>Elevator</th>\n",
       "      <th>Warehouse</th>\n",
       "      <th>Luxury_features</th>\n",
       "      <th>price</th>\n",
       "      <th>mean</th>\n",
       "      <th>std</th>\n",
       "      <th>median</th>\n",
       "      <th>amin</th>\n",
       "      <th>amax</th>\n",
       "      <th>neighbour_hood_encoded</th>\n",
       "    </tr>\n",
       "  </thead>\n",
       "  <tbody>\n",
       "    <tr>\n",
       "      <th>count</th>\n",
       "      <td>20881.000000</td>\n",
       "      <td>20881.000000</td>\n",
       "      <td>20881.000000</td>\n",
       "      <td>20881.000000</td>\n",
       "      <td>20881.000000</td>\n",
       "      <td>20881.000000</td>\n",
       "      <td>20881.000000</td>\n",
       "      <td>20881.000000</td>\n",
       "      <td>2.088100e+04</td>\n",
       "      <td>2.088100e+04</td>\n",
       "      <td>2.083100e+04</td>\n",
       "      <td>2.088100e+04</td>\n",
       "      <td>2.088100e+04</td>\n",
       "      <td>2.088100e+04</td>\n",
       "      <td>20881.000000</td>\n",
       "    </tr>\n",
       "    <tr>\n",
       "      <th>mean</th>\n",
       "      <td>1392.894354</td>\n",
       "      <td>114.148748</td>\n",
       "      <td>4.232795</td>\n",
       "      <td>2.239213</td>\n",
       "      <td>0.645467</td>\n",
       "      <td>0.613285</td>\n",
       "      <td>0.594129</td>\n",
       "      <td>0.182032</td>\n",
       "      <td>7.303778e+07</td>\n",
       "      <td>7.303778e+07</td>\n",
       "      <td>1.889154e+07</td>\n",
       "      <td>7.134505e+07</td>\n",
       "      <td>2.398720e+07</td>\n",
       "      <td>1.334253e+08</td>\n",
       "      <td>13.670322</td>\n",
       "    </tr>\n",
       "    <tr>\n",
       "      <th>std</th>\n",
       "      <td>7.536714</td>\n",
       "      <td>43.082734</td>\n",
       "      <td>5.403487</td>\n",
       "      <td>0.670254</td>\n",
       "      <td>0.478383</td>\n",
       "      <td>0.487009</td>\n",
       "      <td>0.491072</td>\n",
       "      <td>0.385880</td>\n",
       "      <td>3.442528e+07</td>\n",
       "      <td>2.746100e+07</td>\n",
       "      <td>8.855305e+06</td>\n",
       "      <td>2.627741e+07</td>\n",
       "      <td>1.904593e+07</td>\n",
       "      <td>5.075718e+07</td>\n",
       "      <td>5.310036</td>\n",
       "    </tr>\n",
       "    <tr>\n",
       "      <th>min</th>\n",
       "      <td>1360.000000</td>\n",
       "      <td>30.000000</td>\n",
       "      <td>-1.000000</td>\n",
       "      <td>1.000000</td>\n",
       "      <td>0.000000</td>\n",
       "      <td>0.000000</td>\n",
       "      <td>0.000000</td>\n",
       "      <td>0.000000</td>\n",
       "      <td>8.432200e+05</td>\n",
       "      <td>2.933375e+06</td>\n",
       "      <td>0.000000e+00</td>\n",
       "      <td>2.895000e+06</td>\n",
       "      <td>8.432200e+05</td>\n",
       "      <td>3.118000e+06</td>\n",
       "      <td>1.000000</td>\n",
       "    </tr>\n",
       "    <tr>\n",
       "      <th>25%</th>\n",
       "      <td>1386.000000</td>\n",
       "      <td>81.000000</td>\n",
       "      <td>2.000000</td>\n",
       "      <td>2.000000</td>\n",
       "      <td>0.000000</td>\n",
       "      <td>0.000000</td>\n",
       "      <td>0.000000</td>\n",
       "      <td>0.000000</td>\n",
       "      <td>5.180000e+07</td>\n",
       "      <td>5.658122e+07</td>\n",
       "      <td>1.163763e+07</td>\n",
       "      <td>5.787594e+07</td>\n",
       "      <td>8.700000e+06</td>\n",
       "      <td>9.166667e+07</td>\n",
       "      <td>12.000000</td>\n",
       "    </tr>\n",
       "    <tr>\n",
       "      <th>50%</th>\n",
       "      <td>1395.000000</td>\n",
       "      <td>110.000000</td>\n",
       "      <td>3.000000</td>\n",
       "      <td>2.000000</td>\n",
       "      <td>1.000000</td>\n",
       "      <td>1.000000</td>\n",
       "      <td>1.000000</td>\n",
       "      <td>0.000000</td>\n",
       "      <td>6.900000e+07</td>\n",
       "      <td>7.381988e+07</td>\n",
       "      <td>1.628758e+07</td>\n",
       "      <td>7.200000e+07</td>\n",
       "      <td>1.595960e+07</td>\n",
       "      <td>1.204000e+08</td>\n",
       "      <td>15.000000</td>\n",
       "    </tr>\n",
       "    <tr>\n",
       "      <th>75%</th>\n",
       "      <td>1400.000000</td>\n",
       "      <td>140.000000</td>\n",
       "      <td>5.000000</td>\n",
       "      <td>3.000000</td>\n",
       "      <td>1.000000</td>\n",
       "      <td>1.000000</td>\n",
       "      <td>1.000000</td>\n",
       "      <td>0.000000</td>\n",
       "      <td>8.900000e+07</td>\n",
       "      <td>8.589800e+07</td>\n",
       "      <td>2.646587e+07</td>\n",
       "      <td>8.420000e+07</td>\n",
       "      <td>4.210000e+07</td>\n",
       "      <td>1.949150e+08</td>\n",
       "      <td>17.000000</td>\n",
       "    </tr>\n",
       "    <tr>\n",
       "      <th>max</th>\n",
       "      <td>1401.000000</td>\n",
       "      <td>235.000000</td>\n",
       "      <td>146.000000</td>\n",
       "      <td>7.000000</td>\n",
       "      <td>1.000000</td>\n",
       "      <td>1.000000</td>\n",
       "      <td>1.000000</td>\n",
       "      <td>1.000000</td>\n",
       "      <td>2.047000e+08</td>\n",
       "      <td>1.516000e+08</td>\n",
       "      <td>5.451752e+07</td>\n",
       "      <td>1.624000e+08</td>\n",
       "      <td>1.350000e+08</td>\n",
       "      <td>2.047000e+08</td>\n",
       "      <td>21.000000</td>\n",
       "    </tr>\n",
       "  </tbody>\n",
       "</table>\n",
       "</div>"
      ],
      "text/plain": [
       "         build_year          area         floor         rooms       Parking  \\\n",
       "count  20881.000000  20881.000000  20881.000000  20881.000000  20881.000000   \n",
       "mean    1392.894354    114.148748      4.232795      2.239213      0.645467   \n",
       "std        7.536714     43.082734      5.403487      0.670254      0.478383   \n",
       "min     1360.000000     30.000000     -1.000000      1.000000      0.000000   \n",
       "25%     1386.000000     81.000000      2.000000      2.000000      0.000000   \n",
       "50%     1395.000000    110.000000      3.000000      2.000000      1.000000   \n",
       "75%     1400.000000    140.000000      5.000000      3.000000      1.000000   \n",
       "max     1401.000000    235.000000    146.000000      7.000000      1.000000   \n",
       "\n",
       "           Elevator     Warehouse  Luxury_features         price  \\\n",
       "count  20881.000000  20881.000000     20881.000000  2.088100e+04   \n",
       "mean       0.613285      0.594129         0.182032  7.303778e+07   \n",
       "std        0.487009      0.491072         0.385880  3.442528e+07   \n",
       "min        0.000000      0.000000         0.000000  8.432200e+05   \n",
       "25%        0.000000      0.000000         0.000000  5.180000e+07   \n",
       "50%        1.000000      1.000000         0.000000  6.900000e+07   \n",
       "75%        1.000000      1.000000         0.000000  8.900000e+07   \n",
       "max        1.000000      1.000000         1.000000  2.047000e+08   \n",
       "\n",
       "               mean           std        median          amin          amax  \\\n",
       "count  2.088100e+04  2.083100e+04  2.088100e+04  2.088100e+04  2.088100e+04   \n",
       "mean   7.303778e+07  1.889154e+07  7.134505e+07  2.398720e+07  1.334253e+08   \n",
       "std    2.746100e+07  8.855305e+06  2.627741e+07  1.904593e+07  5.075718e+07   \n",
       "min    2.933375e+06  0.000000e+00  2.895000e+06  8.432200e+05  3.118000e+06   \n",
       "25%    5.658122e+07  1.163763e+07  5.787594e+07  8.700000e+06  9.166667e+07   \n",
       "50%    7.381988e+07  1.628758e+07  7.200000e+07  1.595960e+07  1.204000e+08   \n",
       "75%    8.589800e+07  2.646587e+07  8.420000e+07  4.210000e+07  1.949150e+08   \n",
       "max    1.516000e+08  5.451752e+07  1.624000e+08  1.350000e+08  2.047000e+08   \n",
       "\n",
       "       neighbour_hood_encoded  \n",
       "count            20881.000000  \n",
       "mean                13.670322  \n",
       "std                  5.310036  \n",
       "min                  1.000000  \n",
       "25%                 12.000000  \n",
       "50%                 15.000000  \n",
       "75%                 17.000000  \n",
       "max                 21.000000  "
      ]
     },
     "execution_count": 53,
     "metadata": {},
     "output_type": "execute_result"
    }
   ],
   "source": [
    "train.describe()"
   ]
  },
  {
   "cell_type": "code",
   "execution_count": 54,
   "metadata": {},
   "outputs": [],
   "source": [
    "drop_ind = train[train[\"floor\"] > 30].index\n",
    "train.drop(drop_ind , axis= 0 , inplace= True)"
   ]
  },
  {
   "cell_type": "code",
   "execution_count": 66,
   "metadata": {},
   "outputs": [],
   "source": [
    "test.fillna(0 , inplace= True)\n",
    "train.fillna(0 , inplace= True)"
   ]
  },
  {
   "cell_type": "code",
   "execution_count": 67,
   "metadata": {},
   "outputs": [],
   "source": [
    "X_test = test.drop([\"price\" , \"neighbour_hood\"] , axis=1)\n",
    "y_test = test[\"price\"]\n",
    "\n",
    "X_train = train.drop([\"price\",\"neighbour_hood\"] , axis=1)\n",
    "y_train = train[\"price\"]"
   ]
  },
  {
   "attachments": {},
   "cell_type": "markdown",
   "metadata": {},
   "source": [
    "# CV"
   ]
  },
  {
   "cell_type": "code",
   "execution_count": null,
   "metadata": {},
   "outputs": [],
   "source": [
    "from sklearn.model_selection import cross_validate\n",
    "from sklearn.preprocessing import MinMaxScaler , StandardScaler"
   ]
  },
  {
   "cell_type": "code",
   "execution_count": 131,
   "metadata": {},
   "outputs": [],
   "source": [
    "def eval (model , X , y , cv , verbose = 0):\n",
    "    result = cross_validate(model ,X= X , y= y  ,return_train_score= True ,cv=cv ,scoring=('r2', 'neg_mean_absolute_error'))\n",
    "    if verbose and verbose != -1:\n",
    "        print(\"r2 for test:\" , result[\"test_r2\"])\n",
    "        print()\n",
    "\n",
    "        print(\"r2 for train:\" , result[\"train_r2\"])\n",
    "        print()\n",
    "\n",
    "\n",
    "        print(\"mae for test:\" , -1*result[\"test_neg_mean_absolute_error\"])\n",
    "        print()\n",
    "\n",
    "\n",
    "        print(\"mae for train:\" , -1*result[\"train_neg_mean_absolute_error\"])\n",
    "        print()\n",
    "        print(\"-\"*50)\n",
    "\n",
    "    if verbose != -1:\n",
    "\n",
    "        print(\"mean r2 for test:\" , np.mean(result[\"test_r2\"]))\n",
    "        print()\n",
    "        print(\"mean r2 for train:\" , np.mean(result[\"train_r2\"]))\n",
    "        print()\n",
    "        print(\"mean mae for test:\" , np.mean(-1*result[\"test_neg_mean_absolute_error\"]))\n",
    "        print()\n",
    "        print(\"mean mae for train:\" , np.mean(-1*result[\"train_neg_mean_absolute_error\"]))\n",
    "        print()\n",
    "\n",
    "    return np.mean(-1*result[\"train_neg_mean_absolute_error\"]) , np.mean(-1*result[\"test_neg_mean_absolute_error\"]) , np.mean(result[\"train_r2\"]) ,np.mean(result[\"test_r2\"])  \n"
   ]
  },
  {
   "attachments": {},
   "cell_type": "markdown",
   "metadata": {},
   "source": [
    "### Linear Regression"
   ]
  },
  {
   "cell_type": "code",
   "execution_count": 134,
   "metadata": {},
   "outputs": [
    {
     "name": "stdout",
     "output_type": "stream",
     "text": [
      "mean r2 for test: 0.710185755705514\n",
      "\n",
      "mean r2 for train: 0.7108375249932\n",
      "\n",
      "mean mae for test: 13152396.091480574\n",
      "\n",
      "mean mae for train: 13139354.982888386\n",
      "\n"
     ]
    },
    {
     "data": {
      "text/plain": [
       "(13139354.982888386, 13152396.091480574, 0.7108375249932, 0.710185755705514)"
      ]
     },
     "execution_count": 134,
     "metadata": {},
     "output_type": "execute_result"
    }
   ],
   "source": [
    "eval(LinearRegression() , X_train , y_train , 5 , verbose= 0 )"
   ]
  },
  {
   "cell_type": "code",
   "execution_count": 118,
   "metadata": {},
   "outputs": [
    {
     "name": "stdout",
     "output_type": "stream",
     "text": [
      "mean r2 for test: 0.7101857557070025\n",
      "\n",
      "mean r2 for train: 0.7108375249931999\n",
      "\n",
      "mean mae for test: 13152396.091372095\n",
      "\n",
      "mean mae for train: 13139354.982784582\n",
      "\n"
     ]
    }
   ],
   "source": [
    "eval(LinearRegression() , MinMaxScaler().fit_transform(X_train) , y_train , 5 , verbose= 0 )"
   ]
  },
  {
   "cell_type": "code",
   "execution_count": 119,
   "metadata": {},
   "outputs": [
    {
     "name": "stdout",
     "output_type": "stream",
     "text": [
      "mean r2 for test: 0.7101857557070025\n",
      "\n",
      "mean r2 for train: 0.7108375249931999\n",
      "\n",
      "mean mae for test: 13152396.091371965\n",
      "\n",
      "mean mae for train: 13139354.982784452\n",
      "\n"
     ]
    }
   ],
   "source": [
    "eval(LinearRegression() , StandardScaler().fit_transform(X_train) , y_train , 5 , verbose= 0 )"
   ]
  },
  {
   "attachments": {},
   "cell_type": "markdown",
   "metadata": {},
   "source": [
    "### KNN "
   ]
  },
  {
   "attachments": {},
   "cell_type": "markdown",
   "metadata": {},
   "source": [
    "### KNN + Poly"
   ]
  },
  {
   "cell_type": "code",
   "execution_count": 201,
   "metadata": {},
   "outputs": [
    {
     "name": "stdout",
     "output_type": "stream",
     "text": [
      "1\n",
      "3\n"
     ]
    },
    {
     "ename": "KeyboardInterrupt",
     "evalue": "",
     "output_type": "error",
     "traceback": [
      "\u001b[1;31m---------------------------------------------------------------------------\u001b[0m",
      "\u001b[1;31mKeyError\u001b[0m                                  Traceback (most recent call last)",
      "File \u001b[1;32mc:\\Users\\aminr\\anaconda3\\lib\\site-packages\\sklearn\\metrics\\_scorer.py:75\u001b[0m, in \u001b[0;36m_cached_call\u001b[1;34m(cache, estimator, method, *args, **kwargs)\u001b[0m\n\u001b[0;32m     74\u001b[0m \u001b[39mtry\u001b[39;00m:\n\u001b[1;32m---> 75\u001b[0m     \u001b[39mreturn\u001b[39;00m cache[method]\n\u001b[0;32m     76\u001b[0m \u001b[39mexcept\u001b[39;00m \u001b[39mKeyError\u001b[39;00m:\n",
      "\u001b[1;31mKeyError\u001b[0m: 'predict'",
      "\nDuring handling of the above exception, another exception occurred:\n",
      "\u001b[1;31mKeyboardInterrupt\u001b[0m                         Traceback (most recent call last)",
      "\u001b[1;32mc:\\Users\\aminr\\Desktop\\Home_Price\\Data_Cleaning\\Model.ipynb Cell 37\u001b[0m in \u001b[0;36m<cell line: 6>\u001b[1;34m()\u001b[0m\n\u001b[0;32m      <a href='vscode-notebook-cell:/c%3A/Users/aminr/Desktop/Home_Price/Data_Cleaning/Model.ipynb#Y313sZmlsZQ%3D%3D?line=5'>6</a>\u001b[0m \u001b[39mfor\u001b[39;00m n \u001b[39min\u001b[39;00m [\u001b[39m1\u001b[39m,\u001b[39m3\u001b[39m,\u001b[39m5\u001b[39m,\u001b[39m7\u001b[39m,\u001b[39m9\u001b[39m,\u001b[39m15\u001b[39m,\u001b[39m21\u001b[39m,\u001b[39m31\u001b[39m,\u001b[39m51\u001b[39m,\u001b[39m71\u001b[39m,\u001b[39m91\u001b[39m]:\n\u001b[0;32m      <a href='vscode-notebook-cell:/c%3A/Users/aminr/Desktop/Home_Price/Data_Cleaning/Model.ipynb#Y313sZmlsZQ%3D%3D?line=6'>7</a>\u001b[0m     \u001b[39mprint\u001b[39m(n)\n\u001b[1;32m----> <a href='vscode-notebook-cell:/c%3A/Users/aminr/Desktop/Home_Price/Data_Cleaning/Model.ipynb#Y313sZmlsZQ%3D%3D?line=7'>8</a>\u001b[0m     result \u001b[39m=\u001b[39m\u001b[39meval\u001b[39;49m(KNeighborsRegressor(n_neighbors \u001b[39m=\u001b[39;49m n) , X_train , y_train , \u001b[39m5\u001b[39;49m , verbose\u001b[39m=\u001b[39;49m \u001b[39m-\u001b[39;49m\u001b[39m1\u001b[39;49m )\n\u001b[0;32m      <a href='vscode-notebook-cell:/c%3A/Users/aminr/Desktop/Home_Price/Data_Cleaning/Model.ipynb#Y313sZmlsZQ%3D%3D?line=8'>9</a>\u001b[0m     mae_train , mae_test, r2_train, r2_test \u001b[39m=\u001b[39m result\n\u001b[0;32m     <a href='vscode-notebook-cell:/c%3A/Users/aminr/Desktop/Home_Price/Data_Cleaning/Model.ipynb#Y313sZmlsZQ%3D%3D?line=9'>10</a>\u001b[0m     mae_trains_uni\u001b[39m.\u001b[39mappend(mae_train)\n",
      "\u001b[1;32mc:\\Users\\aminr\\Desktop\\Home_Price\\Data_Cleaning\\Model.ipynb Cell 37\u001b[0m in \u001b[0;36meval\u001b[1;34m(model, X, y, cv, verbose)\u001b[0m\n\u001b[0;32m      <a href='vscode-notebook-cell:/c%3A/Users/aminr/Desktop/Home_Price/Data_Cleaning/Model.ipynb#Y313sZmlsZQ%3D%3D?line=0'>1</a>\u001b[0m \u001b[39mdef\u001b[39;00m \u001b[39meval\u001b[39m (model , X , y , cv , verbose \u001b[39m=\u001b[39m \u001b[39m0\u001b[39m):\n\u001b[1;32m----> <a href='vscode-notebook-cell:/c%3A/Users/aminr/Desktop/Home_Price/Data_Cleaning/Model.ipynb#Y313sZmlsZQ%3D%3D?line=1'>2</a>\u001b[0m     result \u001b[39m=\u001b[39m cross_validate(model ,X\u001b[39m=\u001b[39;49m X , y\u001b[39m=\u001b[39;49m y  ,return_train_score\u001b[39m=\u001b[39;49m \u001b[39mTrue\u001b[39;49;00m ,cv\u001b[39m=\u001b[39;49mcv ,scoring\u001b[39m=\u001b[39;49m(\u001b[39m'\u001b[39;49m\u001b[39mr2\u001b[39;49m\u001b[39m'\u001b[39;49m, \u001b[39m'\u001b[39;49m\u001b[39mneg_mean_absolute_error\u001b[39;49m\u001b[39m'\u001b[39;49m))\n\u001b[0;32m      <a href='vscode-notebook-cell:/c%3A/Users/aminr/Desktop/Home_Price/Data_Cleaning/Model.ipynb#Y313sZmlsZQ%3D%3D?line=2'>3</a>\u001b[0m     \u001b[39mif\u001b[39;00m verbose \u001b[39mand\u001b[39;00m verbose \u001b[39m!=\u001b[39m \u001b[39m-\u001b[39m\u001b[39m1\u001b[39m:\n\u001b[0;32m      <a href='vscode-notebook-cell:/c%3A/Users/aminr/Desktop/Home_Price/Data_Cleaning/Model.ipynb#Y313sZmlsZQ%3D%3D?line=3'>4</a>\u001b[0m         \u001b[39mprint\u001b[39m(\u001b[39m\"\u001b[39m\u001b[39mr2 for test:\u001b[39m\u001b[39m\"\u001b[39m , result[\u001b[39m\"\u001b[39m\u001b[39mtest_r2\u001b[39m\u001b[39m\"\u001b[39m])\n",
      "File \u001b[1;32mc:\\Users\\aminr\\anaconda3\\lib\\site-packages\\sklearn\\model_selection\\_validation.py:266\u001b[0m, in \u001b[0;36mcross_validate\u001b[1;34m(estimator, X, y, groups, scoring, cv, n_jobs, verbose, fit_params, pre_dispatch, return_train_score, return_estimator, error_score)\u001b[0m\n\u001b[0;32m    263\u001b[0m \u001b[39m# We clone the estimator to make sure that all the folds are\u001b[39;00m\n\u001b[0;32m    264\u001b[0m \u001b[39m# independent, and that it is pickle-able.\u001b[39;00m\n\u001b[0;32m    265\u001b[0m parallel \u001b[39m=\u001b[39m Parallel(n_jobs\u001b[39m=\u001b[39mn_jobs, verbose\u001b[39m=\u001b[39mverbose, pre_dispatch\u001b[39m=\u001b[39mpre_dispatch)\n\u001b[1;32m--> 266\u001b[0m results \u001b[39m=\u001b[39m parallel(\n\u001b[0;32m    267\u001b[0m     delayed(_fit_and_score)(\n\u001b[0;32m    268\u001b[0m         clone(estimator),\n\u001b[0;32m    269\u001b[0m         X,\n\u001b[0;32m    270\u001b[0m         y,\n\u001b[0;32m    271\u001b[0m         scorers,\n\u001b[0;32m    272\u001b[0m         train,\n\u001b[0;32m    273\u001b[0m         test,\n\u001b[0;32m    274\u001b[0m         verbose,\n\u001b[0;32m    275\u001b[0m         \u001b[39mNone\u001b[39;49;00m,\n\u001b[0;32m    276\u001b[0m         fit_params,\n\u001b[0;32m    277\u001b[0m         return_train_score\u001b[39m=\u001b[39;49mreturn_train_score,\n\u001b[0;32m    278\u001b[0m         return_times\u001b[39m=\u001b[39;49m\u001b[39mTrue\u001b[39;49;00m,\n\u001b[0;32m    279\u001b[0m         return_estimator\u001b[39m=\u001b[39;49mreturn_estimator,\n\u001b[0;32m    280\u001b[0m         error_score\u001b[39m=\u001b[39;49merror_score,\n\u001b[0;32m    281\u001b[0m     )\n\u001b[0;32m    282\u001b[0m     \u001b[39mfor\u001b[39;49;00m train, test \u001b[39min\u001b[39;49;00m cv\u001b[39m.\u001b[39;49msplit(X, y, groups)\n\u001b[0;32m    283\u001b[0m )\n\u001b[0;32m    285\u001b[0m _warn_or_raise_about_fit_failures(results, error_score)\n\u001b[0;32m    287\u001b[0m \u001b[39m# For callabe scoring, the return type is only know after calling. If the\u001b[39;00m\n\u001b[0;32m    288\u001b[0m \u001b[39m# return type is a dictionary, the error scores can now be inserted with\u001b[39;00m\n\u001b[0;32m    289\u001b[0m \u001b[39m# the correct key.\u001b[39;00m\n",
      "File \u001b[1;32mc:\\Users\\aminr\\anaconda3\\lib\\site-packages\\joblib\\parallel.py:1085\u001b[0m, in \u001b[0;36mParallel.__call__\u001b[1;34m(self, iterable)\u001b[0m\n\u001b[0;32m   1076\u001b[0m \u001b[39mtry\u001b[39;00m:\n\u001b[0;32m   1077\u001b[0m     \u001b[39m# Only set self._iterating to True if at least a batch\u001b[39;00m\n\u001b[0;32m   1078\u001b[0m     \u001b[39m# was dispatched. In particular this covers the edge\u001b[39;00m\n\u001b[1;32m   (...)\u001b[0m\n\u001b[0;32m   1082\u001b[0m     \u001b[39m# was very quick and its callback already dispatched all the\u001b[39;00m\n\u001b[0;32m   1083\u001b[0m     \u001b[39m# remaining jobs.\u001b[39;00m\n\u001b[0;32m   1084\u001b[0m     \u001b[39mself\u001b[39m\u001b[39m.\u001b[39m_iterating \u001b[39m=\u001b[39m \u001b[39mFalse\u001b[39;00m\n\u001b[1;32m-> 1085\u001b[0m     \u001b[39mif\u001b[39;00m \u001b[39mself\u001b[39;49m\u001b[39m.\u001b[39;49mdispatch_one_batch(iterator):\n\u001b[0;32m   1086\u001b[0m         \u001b[39mself\u001b[39m\u001b[39m.\u001b[39m_iterating \u001b[39m=\u001b[39m \u001b[39mself\u001b[39m\u001b[39m.\u001b[39m_original_iterator \u001b[39mis\u001b[39;00m \u001b[39mnot\u001b[39;00m \u001b[39mNone\u001b[39;00m\n\u001b[0;32m   1088\u001b[0m     \u001b[39mwhile\u001b[39;00m \u001b[39mself\u001b[39m\u001b[39m.\u001b[39mdispatch_one_batch(iterator):\n",
      "File \u001b[1;32mc:\\Users\\aminr\\anaconda3\\lib\\site-packages\\joblib\\parallel.py:901\u001b[0m, in \u001b[0;36mParallel.dispatch_one_batch\u001b[1;34m(self, iterator)\u001b[0m\n\u001b[0;32m    899\u001b[0m     \u001b[39mreturn\u001b[39;00m \u001b[39mFalse\u001b[39;00m\n\u001b[0;32m    900\u001b[0m \u001b[39melse\u001b[39;00m:\n\u001b[1;32m--> 901\u001b[0m     \u001b[39mself\u001b[39;49m\u001b[39m.\u001b[39;49m_dispatch(tasks)\n\u001b[0;32m    902\u001b[0m     \u001b[39mreturn\u001b[39;00m \u001b[39mTrue\u001b[39;00m\n",
      "File \u001b[1;32mc:\\Users\\aminr\\anaconda3\\lib\\site-packages\\joblib\\parallel.py:819\u001b[0m, in \u001b[0;36mParallel._dispatch\u001b[1;34m(self, batch)\u001b[0m\n\u001b[0;32m    817\u001b[0m \u001b[39mwith\u001b[39;00m \u001b[39mself\u001b[39m\u001b[39m.\u001b[39m_lock:\n\u001b[0;32m    818\u001b[0m     job_idx \u001b[39m=\u001b[39m \u001b[39mlen\u001b[39m(\u001b[39mself\u001b[39m\u001b[39m.\u001b[39m_jobs)\n\u001b[1;32m--> 819\u001b[0m     job \u001b[39m=\u001b[39m \u001b[39mself\u001b[39;49m\u001b[39m.\u001b[39;49m_backend\u001b[39m.\u001b[39;49mapply_async(batch, callback\u001b[39m=\u001b[39;49mcb)\n\u001b[0;32m    820\u001b[0m     \u001b[39m# A job can complete so quickly than its callback is\u001b[39;00m\n\u001b[0;32m    821\u001b[0m     \u001b[39m# called before we get here, causing self._jobs to\u001b[39;00m\n\u001b[0;32m    822\u001b[0m     \u001b[39m# grow. To ensure correct results ordering, .insert is\u001b[39;00m\n\u001b[0;32m    823\u001b[0m     \u001b[39m# used (rather than .append) in the following line\u001b[39;00m\n\u001b[0;32m    824\u001b[0m     \u001b[39mself\u001b[39m\u001b[39m.\u001b[39m_jobs\u001b[39m.\u001b[39minsert(job_idx, job)\n",
      "File \u001b[1;32mc:\\Users\\aminr\\anaconda3\\lib\\site-packages\\joblib\\_parallel_backends.py:208\u001b[0m, in \u001b[0;36mSequentialBackend.apply_async\u001b[1;34m(self, func, callback)\u001b[0m\n\u001b[0;32m    206\u001b[0m \u001b[39mdef\u001b[39;00m \u001b[39mapply_async\u001b[39m(\u001b[39mself\u001b[39m, func, callback\u001b[39m=\u001b[39m\u001b[39mNone\u001b[39;00m):\n\u001b[0;32m    207\u001b[0m     \u001b[39m\"\"\"Schedule a func to be run\"\"\"\u001b[39;00m\n\u001b[1;32m--> 208\u001b[0m     result \u001b[39m=\u001b[39m ImmediateResult(func)\n\u001b[0;32m    209\u001b[0m     \u001b[39mif\u001b[39;00m callback:\n\u001b[0;32m    210\u001b[0m         callback(result)\n",
      "File \u001b[1;32mc:\\Users\\aminr\\anaconda3\\lib\\site-packages\\joblib\\_parallel_backends.py:597\u001b[0m, in \u001b[0;36mImmediateResult.__init__\u001b[1;34m(self, batch)\u001b[0m\n\u001b[0;32m    594\u001b[0m \u001b[39mdef\u001b[39;00m \u001b[39m__init__\u001b[39m(\u001b[39mself\u001b[39m, batch):\n\u001b[0;32m    595\u001b[0m     \u001b[39m# Don't delay the application, to avoid keeping the input\u001b[39;00m\n\u001b[0;32m    596\u001b[0m     \u001b[39m# arguments in memory\u001b[39;00m\n\u001b[1;32m--> 597\u001b[0m     \u001b[39mself\u001b[39m\u001b[39m.\u001b[39mresults \u001b[39m=\u001b[39m batch()\n",
      "File \u001b[1;32mc:\\Users\\aminr\\anaconda3\\lib\\site-packages\\joblib\\parallel.py:288\u001b[0m, in \u001b[0;36mBatchedCalls.__call__\u001b[1;34m(self)\u001b[0m\n\u001b[0;32m    284\u001b[0m \u001b[39mdef\u001b[39;00m \u001b[39m__call__\u001b[39m(\u001b[39mself\u001b[39m):\n\u001b[0;32m    285\u001b[0m     \u001b[39m# Set the default nested backend to self._backend but do not set the\u001b[39;00m\n\u001b[0;32m    286\u001b[0m     \u001b[39m# change the default number of processes to -1\u001b[39;00m\n\u001b[0;32m    287\u001b[0m     \u001b[39mwith\u001b[39;00m parallel_backend(\u001b[39mself\u001b[39m\u001b[39m.\u001b[39m_backend, n_jobs\u001b[39m=\u001b[39m\u001b[39mself\u001b[39m\u001b[39m.\u001b[39m_n_jobs):\n\u001b[1;32m--> 288\u001b[0m         \u001b[39mreturn\u001b[39;00m [func(\u001b[39m*\u001b[39margs, \u001b[39m*\u001b[39m\u001b[39m*\u001b[39mkwargs)\n\u001b[0;32m    289\u001b[0m                 \u001b[39mfor\u001b[39;00m func, args, kwargs \u001b[39min\u001b[39;00m \u001b[39mself\u001b[39m\u001b[39m.\u001b[39mitems]\n",
      "File \u001b[1;32mc:\\Users\\aminr\\anaconda3\\lib\\site-packages\\joblib\\parallel.py:288\u001b[0m, in \u001b[0;36m<listcomp>\u001b[1;34m(.0)\u001b[0m\n\u001b[0;32m    284\u001b[0m \u001b[39mdef\u001b[39;00m \u001b[39m__call__\u001b[39m(\u001b[39mself\u001b[39m):\n\u001b[0;32m    285\u001b[0m     \u001b[39m# Set the default nested backend to self._backend but do not set the\u001b[39;00m\n\u001b[0;32m    286\u001b[0m     \u001b[39m# change the default number of processes to -1\u001b[39;00m\n\u001b[0;32m    287\u001b[0m     \u001b[39mwith\u001b[39;00m parallel_backend(\u001b[39mself\u001b[39m\u001b[39m.\u001b[39m_backend, n_jobs\u001b[39m=\u001b[39m\u001b[39mself\u001b[39m\u001b[39m.\u001b[39m_n_jobs):\n\u001b[1;32m--> 288\u001b[0m         \u001b[39mreturn\u001b[39;00m [func(\u001b[39m*\u001b[39margs, \u001b[39m*\u001b[39m\u001b[39m*\u001b[39mkwargs)\n\u001b[0;32m    289\u001b[0m                 \u001b[39mfor\u001b[39;00m func, args, kwargs \u001b[39min\u001b[39;00m \u001b[39mself\u001b[39m\u001b[39m.\u001b[39mitems]\n",
      "File \u001b[1;32mc:\\Users\\aminr\\anaconda3\\lib\\site-packages\\sklearn\\utils\\fixes.py:117\u001b[0m, in \u001b[0;36m_FuncWrapper.__call__\u001b[1;34m(self, *args, **kwargs)\u001b[0m\n\u001b[0;32m    115\u001b[0m \u001b[39mdef\u001b[39;00m \u001b[39m__call__\u001b[39m(\u001b[39mself\u001b[39m, \u001b[39m*\u001b[39margs, \u001b[39m*\u001b[39m\u001b[39m*\u001b[39mkwargs):\n\u001b[0;32m    116\u001b[0m     \u001b[39mwith\u001b[39;00m config_context(\u001b[39m*\u001b[39m\u001b[39m*\u001b[39m\u001b[39mself\u001b[39m\u001b[39m.\u001b[39mconfig):\n\u001b[1;32m--> 117\u001b[0m         \u001b[39mreturn\u001b[39;00m \u001b[39mself\u001b[39m\u001b[39m.\u001b[39mfunction(\u001b[39m*\u001b[39margs, \u001b[39m*\u001b[39m\u001b[39m*\u001b[39mkwargs)\n",
      "File \u001b[1;32mc:\\Users\\aminr\\anaconda3\\lib\\site-packages\\sklearn\\model_selection\\_validation.py:711\u001b[0m, in \u001b[0;36m_fit_and_score\u001b[1;34m(estimator, X, y, scorer, train, test, verbose, parameters, fit_params, return_train_score, return_parameters, return_n_test_samples, return_times, return_estimator, split_progress, candidate_progress, error_score)\u001b[0m\n\u001b[0;32m    709\u001b[0m     score_time \u001b[39m=\u001b[39m time\u001b[39m.\u001b[39mtime() \u001b[39m-\u001b[39m start_time \u001b[39m-\u001b[39m fit_time\n\u001b[0;32m    710\u001b[0m     \u001b[39mif\u001b[39;00m return_train_score:\n\u001b[1;32m--> 711\u001b[0m         train_scores \u001b[39m=\u001b[39m _score(estimator, X_train, y_train, scorer, error_score)\n\u001b[0;32m    713\u001b[0m \u001b[39mif\u001b[39;00m verbose \u001b[39m>\u001b[39m \u001b[39m1\u001b[39m:\n\u001b[0;32m    714\u001b[0m     total_time \u001b[39m=\u001b[39m score_time \u001b[39m+\u001b[39m fit_time\n",
      "File \u001b[1;32mc:\\Users\\aminr\\anaconda3\\lib\\site-packages\\sklearn\\model_selection\\_validation.py:767\u001b[0m, in \u001b[0;36m_score\u001b[1;34m(estimator, X_test, y_test, scorer, error_score)\u001b[0m\n\u001b[0;32m    765\u001b[0m         scores \u001b[39m=\u001b[39m scorer(estimator, X_test)\n\u001b[0;32m    766\u001b[0m     \u001b[39melse\u001b[39;00m:\n\u001b[1;32m--> 767\u001b[0m         scores \u001b[39m=\u001b[39m scorer(estimator, X_test, y_test)\n\u001b[0;32m    768\u001b[0m \u001b[39mexcept\u001b[39;00m \u001b[39mException\u001b[39;00m:\n\u001b[0;32m    769\u001b[0m     \u001b[39mif\u001b[39;00m error_score \u001b[39m==\u001b[39m \u001b[39m\"\u001b[39m\u001b[39mraise\u001b[39m\u001b[39m\"\u001b[39m:\n",
      "File \u001b[1;32mc:\\Users\\aminr\\anaconda3\\lib\\site-packages\\sklearn\\metrics\\_scorer.py:107\u001b[0m, in \u001b[0;36m_MultimetricScorer.__call__\u001b[1;34m(self, estimator, *args, **kwargs)\u001b[0m\n\u001b[0;32m    105\u001b[0m \u001b[39mfor\u001b[39;00m name, scorer \u001b[39min\u001b[39;00m \u001b[39mself\u001b[39m\u001b[39m.\u001b[39m_scorers\u001b[39m.\u001b[39mitems():\n\u001b[0;32m    106\u001b[0m     \u001b[39mif\u001b[39;00m \u001b[39misinstance\u001b[39m(scorer, _BaseScorer):\n\u001b[1;32m--> 107\u001b[0m         score \u001b[39m=\u001b[39m scorer\u001b[39m.\u001b[39m_score(cached_call, estimator, \u001b[39m*\u001b[39margs, \u001b[39m*\u001b[39m\u001b[39m*\u001b[39mkwargs)\n\u001b[0;32m    108\u001b[0m     \u001b[39melse\u001b[39;00m:\n\u001b[0;32m    109\u001b[0m         score \u001b[39m=\u001b[39m scorer(estimator, \u001b[39m*\u001b[39margs, \u001b[39m*\u001b[39m\u001b[39m*\u001b[39mkwargs)\n",
      "File \u001b[1;32mc:\\Users\\aminr\\anaconda3\\lib\\site-packages\\sklearn\\metrics\\_scorer.py:262\u001b[0m, in \u001b[0;36m_PredictScorer._score\u001b[1;34m(self, method_caller, estimator, X, y_true, sample_weight)\u001b[0m\n\u001b[0;32m    234\u001b[0m \u001b[39mdef\u001b[39;00m \u001b[39m_score\u001b[39m(\u001b[39mself\u001b[39m, method_caller, estimator, X, y_true, sample_weight\u001b[39m=\u001b[39m\u001b[39mNone\u001b[39;00m):\n\u001b[0;32m    235\u001b[0m     \u001b[39m\"\"\"Evaluate predicted target values for X relative to y_true.\u001b[39;00m\n\u001b[0;32m    236\u001b[0m \n\u001b[0;32m    237\u001b[0m \u001b[39m    Parameters\u001b[39;00m\n\u001b[1;32m   (...)\u001b[0m\n\u001b[0;32m    259\u001b[0m \u001b[39m        Score function applied to prediction of estimator on X.\u001b[39;00m\n\u001b[0;32m    260\u001b[0m \u001b[39m    \"\"\"\u001b[39;00m\n\u001b[1;32m--> 262\u001b[0m     y_pred \u001b[39m=\u001b[39m method_caller(estimator, \u001b[39m\"\u001b[39;49m\u001b[39mpredict\u001b[39;49m\u001b[39m\"\u001b[39;49m, X)\n\u001b[0;32m    263\u001b[0m     \u001b[39mif\u001b[39;00m sample_weight \u001b[39mis\u001b[39;00m \u001b[39mnot\u001b[39;00m \u001b[39mNone\u001b[39;00m:\n\u001b[0;32m    264\u001b[0m         \u001b[39mreturn\u001b[39;00m \u001b[39mself\u001b[39m\u001b[39m.\u001b[39m_sign \u001b[39m*\u001b[39m \u001b[39mself\u001b[39m\u001b[39m.\u001b[39m_score_func(\n\u001b[0;32m    265\u001b[0m             y_true, y_pred, sample_weight\u001b[39m=\u001b[39msample_weight, \u001b[39m*\u001b[39m\u001b[39m*\u001b[39m\u001b[39mself\u001b[39m\u001b[39m.\u001b[39m_kwargs\n\u001b[0;32m    266\u001b[0m         )\n",
      "File \u001b[1;32mc:\\Users\\aminr\\anaconda3\\lib\\site-packages\\sklearn\\metrics\\_scorer.py:77\u001b[0m, in \u001b[0;36m_cached_call\u001b[1;34m(cache, estimator, method, *args, **kwargs)\u001b[0m\n\u001b[0;32m     75\u001b[0m     \u001b[39mreturn\u001b[39;00m cache[method]\n\u001b[0;32m     76\u001b[0m \u001b[39mexcept\u001b[39;00m \u001b[39mKeyError\u001b[39;00m:\n\u001b[1;32m---> 77\u001b[0m     result \u001b[39m=\u001b[39m \u001b[39mgetattr\u001b[39m(estimator, method)(\u001b[39m*\u001b[39margs, \u001b[39m*\u001b[39m\u001b[39m*\u001b[39mkwargs)\n\u001b[0;32m     78\u001b[0m     cache[method] \u001b[39m=\u001b[39m result\n\u001b[0;32m     79\u001b[0m     \u001b[39mreturn\u001b[39;00m result\n",
      "File \u001b[1;32mc:\\Users\\aminr\\anaconda3\\lib\\site-packages\\sklearn\\neighbors\\_regression.py:236\u001b[0m, in \u001b[0;36mKNeighborsRegressor.predict\u001b[1;34m(self, X)\u001b[0m\n\u001b[0;32m    220\u001b[0m \u001b[39m\"\"\"Predict the target for the provided data.\u001b[39;00m\n\u001b[0;32m    221\u001b[0m \n\u001b[0;32m    222\u001b[0m \u001b[39mParameters\u001b[39;00m\n\u001b[1;32m   (...)\u001b[0m\n\u001b[0;32m    231\u001b[0m \u001b[39m    Target values.\u001b[39;00m\n\u001b[0;32m    232\u001b[0m \u001b[39m\"\"\"\u001b[39;00m\n\u001b[0;32m    233\u001b[0m \u001b[39mif\u001b[39;00m \u001b[39mself\u001b[39m\u001b[39m.\u001b[39mweights \u001b[39m==\u001b[39m \u001b[39m\"\u001b[39m\u001b[39muniform\u001b[39m\u001b[39m\"\u001b[39m:\n\u001b[0;32m    234\u001b[0m     \u001b[39m# In that case, we do not need the distances to perform\u001b[39;00m\n\u001b[0;32m    235\u001b[0m     \u001b[39m# the weighting so we do not compute them.\u001b[39;00m\n\u001b[1;32m--> 236\u001b[0m     neigh_ind \u001b[39m=\u001b[39m \u001b[39mself\u001b[39;49m\u001b[39m.\u001b[39;49mkneighbors(X, return_distance\u001b[39m=\u001b[39;49m\u001b[39mFalse\u001b[39;49;00m)\n\u001b[0;32m    237\u001b[0m     neigh_dist \u001b[39m=\u001b[39m \u001b[39mNone\u001b[39;00m\n\u001b[0;32m    238\u001b[0m \u001b[39melse\u001b[39;00m:\n",
      "File \u001b[1;32mc:\\Users\\aminr\\anaconda3\\lib\\site-packages\\sklearn\\neighbors\\_base.py:879\u001b[0m, in \u001b[0;36mKNeighborsMixin.kneighbors\u001b[1;34m(self, X, n_neighbors, return_distance)\u001b[0m\n\u001b[0;32m    873\u001b[0m     \u001b[39mif\u001b[39;00m issparse(X):\n\u001b[0;32m    874\u001b[0m         \u001b[39mraise\u001b[39;00m \u001b[39mValueError\u001b[39;00m(\n\u001b[0;32m    875\u001b[0m             \u001b[39m\"\u001b[39m\u001b[39m%s\u001b[39;00m\u001b[39m does not work with sparse matrices. Densify the data, \u001b[39m\u001b[39m\"\u001b[39m\n\u001b[0;32m    876\u001b[0m             \u001b[39m\"\u001b[39m\u001b[39mor set algorithm=\u001b[39m\u001b[39m'\u001b[39m\u001b[39mbrute\u001b[39m\u001b[39m'\u001b[39m\u001b[39m\"\u001b[39m\n\u001b[0;32m    877\u001b[0m             \u001b[39m%\u001b[39m \u001b[39mself\u001b[39m\u001b[39m.\u001b[39m_fit_method\n\u001b[0;32m    878\u001b[0m         )\n\u001b[1;32m--> 879\u001b[0m     chunked_results \u001b[39m=\u001b[39m Parallel(n_jobs, prefer\u001b[39m=\u001b[39;49m\u001b[39m\"\u001b[39;49m\u001b[39mthreads\u001b[39;49m\u001b[39m\"\u001b[39;49m)(\n\u001b[0;32m    880\u001b[0m         delayed(_tree_query_parallel_helper)(\n\u001b[0;32m    881\u001b[0m             \u001b[39mself\u001b[39;49m\u001b[39m.\u001b[39;49m_tree, X[s], n_neighbors, return_distance\n\u001b[0;32m    882\u001b[0m         )\n\u001b[0;32m    883\u001b[0m         \u001b[39mfor\u001b[39;49;00m s \u001b[39min\u001b[39;49;00m gen_even_slices(X\u001b[39m.\u001b[39;49mshape[\u001b[39m0\u001b[39;49m], n_jobs)\n\u001b[0;32m    884\u001b[0m     )\n\u001b[0;32m    885\u001b[0m \u001b[39melse\u001b[39;00m:\n\u001b[0;32m    886\u001b[0m     \u001b[39mraise\u001b[39;00m \u001b[39mValueError\u001b[39;00m(\u001b[39m\"\u001b[39m\u001b[39minternal: _fit_method not recognized\u001b[39m\u001b[39m\"\u001b[39m)\n",
      "File \u001b[1;32mc:\\Users\\aminr\\anaconda3\\lib\\site-packages\\joblib\\parallel.py:1085\u001b[0m, in \u001b[0;36mParallel.__call__\u001b[1;34m(self, iterable)\u001b[0m\n\u001b[0;32m   1076\u001b[0m \u001b[39mtry\u001b[39;00m:\n\u001b[0;32m   1077\u001b[0m     \u001b[39m# Only set self._iterating to True if at least a batch\u001b[39;00m\n\u001b[0;32m   1078\u001b[0m     \u001b[39m# was dispatched. In particular this covers the edge\u001b[39;00m\n\u001b[1;32m   (...)\u001b[0m\n\u001b[0;32m   1082\u001b[0m     \u001b[39m# was very quick and its callback already dispatched all the\u001b[39;00m\n\u001b[0;32m   1083\u001b[0m     \u001b[39m# remaining jobs.\u001b[39;00m\n\u001b[0;32m   1084\u001b[0m     \u001b[39mself\u001b[39m\u001b[39m.\u001b[39m_iterating \u001b[39m=\u001b[39m \u001b[39mFalse\u001b[39;00m\n\u001b[1;32m-> 1085\u001b[0m     \u001b[39mif\u001b[39;00m \u001b[39mself\u001b[39;49m\u001b[39m.\u001b[39;49mdispatch_one_batch(iterator):\n\u001b[0;32m   1086\u001b[0m         \u001b[39mself\u001b[39m\u001b[39m.\u001b[39m_iterating \u001b[39m=\u001b[39m \u001b[39mself\u001b[39m\u001b[39m.\u001b[39m_original_iterator \u001b[39mis\u001b[39;00m \u001b[39mnot\u001b[39;00m \u001b[39mNone\u001b[39;00m\n\u001b[0;32m   1088\u001b[0m     \u001b[39mwhile\u001b[39;00m \u001b[39mself\u001b[39m\u001b[39m.\u001b[39mdispatch_one_batch(iterator):\n",
      "File \u001b[1;32mc:\\Users\\aminr\\anaconda3\\lib\\site-packages\\joblib\\parallel.py:901\u001b[0m, in \u001b[0;36mParallel.dispatch_one_batch\u001b[1;34m(self, iterator)\u001b[0m\n\u001b[0;32m    899\u001b[0m     \u001b[39mreturn\u001b[39;00m \u001b[39mFalse\u001b[39;00m\n\u001b[0;32m    900\u001b[0m \u001b[39melse\u001b[39;00m:\n\u001b[1;32m--> 901\u001b[0m     \u001b[39mself\u001b[39;49m\u001b[39m.\u001b[39;49m_dispatch(tasks)\n\u001b[0;32m    902\u001b[0m     \u001b[39mreturn\u001b[39;00m \u001b[39mTrue\u001b[39;00m\n",
      "File \u001b[1;32mc:\\Users\\aminr\\anaconda3\\lib\\site-packages\\joblib\\parallel.py:819\u001b[0m, in \u001b[0;36mParallel._dispatch\u001b[1;34m(self, batch)\u001b[0m\n\u001b[0;32m    817\u001b[0m \u001b[39mwith\u001b[39;00m \u001b[39mself\u001b[39m\u001b[39m.\u001b[39m_lock:\n\u001b[0;32m    818\u001b[0m     job_idx \u001b[39m=\u001b[39m \u001b[39mlen\u001b[39m(\u001b[39mself\u001b[39m\u001b[39m.\u001b[39m_jobs)\n\u001b[1;32m--> 819\u001b[0m     job \u001b[39m=\u001b[39m \u001b[39mself\u001b[39;49m\u001b[39m.\u001b[39;49m_backend\u001b[39m.\u001b[39;49mapply_async(batch, callback\u001b[39m=\u001b[39;49mcb)\n\u001b[0;32m    820\u001b[0m     \u001b[39m# A job can complete so quickly than its callback is\u001b[39;00m\n\u001b[0;32m    821\u001b[0m     \u001b[39m# called before we get here, causing self._jobs to\u001b[39;00m\n\u001b[0;32m    822\u001b[0m     \u001b[39m# grow. To ensure correct results ordering, .insert is\u001b[39;00m\n\u001b[0;32m    823\u001b[0m     \u001b[39m# used (rather than .append) in the following line\u001b[39;00m\n\u001b[0;32m    824\u001b[0m     \u001b[39mself\u001b[39m\u001b[39m.\u001b[39m_jobs\u001b[39m.\u001b[39minsert(job_idx, job)\n",
      "File \u001b[1;32mc:\\Users\\aminr\\anaconda3\\lib\\site-packages\\joblib\\_parallel_backends.py:208\u001b[0m, in \u001b[0;36mSequentialBackend.apply_async\u001b[1;34m(self, func, callback)\u001b[0m\n\u001b[0;32m    206\u001b[0m \u001b[39mdef\u001b[39;00m \u001b[39mapply_async\u001b[39m(\u001b[39mself\u001b[39m, func, callback\u001b[39m=\u001b[39m\u001b[39mNone\u001b[39;00m):\n\u001b[0;32m    207\u001b[0m     \u001b[39m\"\"\"Schedule a func to be run\"\"\"\u001b[39;00m\n\u001b[1;32m--> 208\u001b[0m     result \u001b[39m=\u001b[39m ImmediateResult(func)\n\u001b[0;32m    209\u001b[0m     \u001b[39mif\u001b[39;00m callback:\n\u001b[0;32m    210\u001b[0m         callback(result)\n",
      "File \u001b[1;32mc:\\Users\\aminr\\anaconda3\\lib\\site-packages\\joblib\\_parallel_backends.py:597\u001b[0m, in \u001b[0;36mImmediateResult.__init__\u001b[1;34m(self, batch)\u001b[0m\n\u001b[0;32m    594\u001b[0m \u001b[39mdef\u001b[39;00m \u001b[39m__init__\u001b[39m(\u001b[39mself\u001b[39m, batch):\n\u001b[0;32m    595\u001b[0m     \u001b[39m# Don't delay the application, to avoid keeping the input\u001b[39;00m\n\u001b[0;32m    596\u001b[0m     \u001b[39m# arguments in memory\u001b[39;00m\n\u001b[1;32m--> 597\u001b[0m     \u001b[39mself\u001b[39m\u001b[39m.\u001b[39mresults \u001b[39m=\u001b[39m batch()\n",
      "File \u001b[1;32mc:\\Users\\aminr\\anaconda3\\lib\\site-packages\\joblib\\parallel.py:288\u001b[0m, in \u001b[0;36mBatchedCalls.__call__\u001b[1;34m(self)\u001b[0m\n\u001b[0;32m    284\u001b[0m \u001b[39mdef\u001b[39;00m \u001b[39m__call__\u001b[39m(\u001b[39mself\u001b[39m):\n\u001b[0;32m    285\u001b[0m     \u001b[39m# Set the default nested backend to self._backend but do not set the\u001b[39;00m\n\u001b[0;32m    286\u001b[0m     \u001b[39m# change the default number of processes to -1\u001b[39;00m\n\u001b[0;32m    287\u001b[0m     \u001b[39mwith\u001b[39;00m parallel_backend(\u001b[39mself\u001b[39m\u001b[39m.\u001b[39m_backend, n_jobs\u001b[39m=\u001b[39m\u001b[39mself\u001b[39m\u001b[39m.\u001b[39m_n_jobs):\n\u001b[1;32m--> 288\u001b[0m         \u001b[39mreturn\u001b[39;00m [func(\u001b[39m*\u001b[39margs, \u001b[39m*\u001b[39m\u001b[39m*\u001b[39mkwargs)\n\u001b[0;32m    289\u001b[0m                 \u001b[39mfor\u001b[39;00m func, args, kwargs \u001b[39min\u001b[39;00m \u001b[39mself\u001b[39m\u001b[39m.\u001b[39mitems]\n",
      "File \u001b[1;32mc:\\Users\\aminr\\anaconda3\\lib\\site-packages\\joblib\\parallel.py:288\u001b[0m, in \u001b[0;36m<listcomp>\u001b[1;34m(.0)\u001b[0m\n\u001b[0;32m    284\u001b[0m \u001b[39mdef\u001b[39;00m \u001b[39m__call__\u001b[39m(\u001b[39mself\u001b[39m):\n\u001b[0;32m    285\u001b[0m     \u001b[39m# Set the default nested backend to self._backend but do not set the\u001b[39;00m\n\u001b[0;32m    286\u001b[0m     \u001b[39m# change the default number of processes to -1\u001b[39;00m\n\u001b[0;32m    287\u001b[0m     \u001b[39mwith\u001b[39;00m parallel_backend(\u001b[39mself\u001b[39m\u001b[39m.\u001b[39m_backend, n_jobs\u001b[39m=\u001b[39m\u001b[39mself\u001b[39m\u001b[39m.\u001b[39m_n_jobs):\n\u001b[1;32m--> 288\u001b[0m         \u001b[39mreturn\u001b[39;00m [func(\u001b[39m*\u001b[39margs, \u001b[39m*\u001b[39m\u001b[39m*\u001b[39mkwargs)\n\u001b[0;32m    289\u001b[0m                 \u001b[39mfor\u001b[39;00m func, args, kwargs \u001b[39min\u001b[39;00m \u001b[39mself\u001b[39m\u001b[39m.\u001b[39mitems]\n",
      "File \u001b[1;32mc:\\Users\\aminr\\anaconda3\\lib\\site-packages\\sklearn\\utils\\fixes.py:117\u001b[0m, in \u001b[0;36m_FuncWrapper.__call__\u001b[1;34m(self, *args, **kwargs)\u001b[0m\n\u001b[0;32m    115\u001b[0m \u001b[39mdef\u001b[39;00m \u001b[39m__call__\u001b[39m(\u001b[39mself\u001b[39m, \u001b[39m*\u001b[39margs, \u001b[39m*\u001b[39m\u001b[39m*\u001b[39mkwargs):\n\u001b[0;32m    116\u001b[0m     \u001b[39mwith\u001b[39;00m config_context(\u001b[39m*\u001b[39m\u001b[39m*\u001b[39m\u001b[39mself\u001b[39m\u001b[39m.\u001b[39mconfig):\n\u001b[1;32m--> 117\u001b[0m         \u001b[39mreturn\u001b[39;00m \u001b[39mself\u001b[39m\u001b[39m.\u001b[39mfunction(\u001b[39m*\u001b[39margs, \u001b[39m*\u001b[39m\u001b[39m*\u001b[39mkwargs)\n",
      "File \u001b[1;32mc:\\Users\\aminr\\anaconda3\\lib\\site-packages\\sklearn\\neighbors\\_base.py:685\u001b[0m, in \u001b[0;36m_tree_query_parallel_helper\u001b[1;34m(tree, *args, **kwargs)\u001b[0m\n\u001b[0;32m    679\u001b[0m \u001b[39mdef\u001b[39;00m \u001b[39m_tree_query_parallel_helper\u001b[39m(tree, \u001b[39m*\u001b[39margs, \u001b[39m*\u001b[39m\u001b[39m*\u001b[39mkwargs):\n\u001b[0;32m    680\u001b[0m     \u001b[39m\"\"\"Helper for the Parallel calls in KNeighborsMixin.kneighbors.\u001b[39;00m\n\u001b[0;32m    681\u001b[0m \n\u001b[0;32m    682\u001b[0m \u001b[39m    The Cython method tree.query is not directly picklable by cloudpickle\u001b[39;00m\n\u001b[0;32m    683\u001b[0m \u001b[39m    under PyPy.\u001b[39;00m\n\u001b[0;32m    684\u001b[0m \u001b[39m    \"\"\"\u001b[39;00m\n\u001b[1;32m--> 685\u001b[0m     \u001b[39mreturn\u001b[39;00m tree\u001b[39m.\u001b[39mquery(\u001b[39m*\u001b[39margs, \u001b[39m*\u001b[39m\u001b[39m*\u001b[39mkwargs)\n",
      "\u001b[1;31mKeyboardInterrupt\u001b[0m: "
     ]
    }
   ],
   "source": [
    "from sklearn.preprocessing import PolynomialFeatures\n",
    "mae_trains_uni = []\n",
    "mae_tests_uni = []\n",
    "r2_trains_uni = []\n",
    "r2_tests_uni = []\n",
    "for n in [1,3,5,7,9,15,21,31,51,71,91]:\n",
    "    print(n)\n",
    "    result =eval(KNeighborsRegressor(n_neighbors = n) , X_train , y_train , 5 , verbose= -1 )\n",
    "    mae_train , mae_test, r2_train, r2_test = result\n",
    "    mae_trains_uni.append(mae_train)\n",
    "    mae_tests_uni.append(mae_test)\n",
    "    r2_trains_uni.append(r2_train)\n",
    "    r2_tests_uni.append(r2_test)"
   ]
  },
  {
   "cell_type": "code",
   "execution_count": 204,
   "metadata": {},
   "outputs": [
    {
     "name": "stdout",
     "output_type": "stream",
     "text": [
      "mean r2 for test: 0.7637272453347976\n",
      "\n",
      "mean r2 for train: 0.8828074605775165\n",
      "\n",
      "mean mae for test: 10801054.481663909\n",
      "\n",
      "mean mae for train: 7321787.433144337\n",
      "\n"
     ]
    },
    {
     "data": {
      "text/plain": [
       "(7321787.433144337, 10801054.481663909, 0.8828074605775165, 0.7637272453347976)"
      ]
     },
     "execution_count": 204,
     "metadata": {},
     "output_type": "execute_result"
    }
   ],
   "source": [
    "eval(KNeighborsRegressor(n_neighbors = 3) , PolynomialFeatures(degree=2 , interaction_only=True, include_bias=False).fit_transform(X_train) , y_train , 5 , verbose= 0 )"
   ]
  },
  {
   "cell_type": "code",
   "execution_count": 207,
   "metadata": {},
   "outputs": [
    {
     "name": "stdout",
     "output_type": "stream",
     "text": [
      "mean r2 for test: 0.7649786649976954\n",
      "\n",
      "mean r2 for train: 0.847504918792765\n",
      "\n",
      "mean mae for test: 11071246.783285325\n",
      "\n",
      "mean mae for train: 8826641.610698989\n",
      "\n"
     ]
    },
    {
     "data": {
      "text/plain": [
       "(8826641.610698989, 11071246.783285325, 0.847504918792765, 0.7649786649976954)"
      ]
     },
     "execution_count": 207,
     "metadata": {},
     "output_type": "execute_result"
    }
   ],
   "source": [
    "eval(KNeighborsRegressor(n_neighbors = 5) , PolynomialFeatures(degree=2 , interaction_only=True, include_bias=False).fit_transform(X_train) , y_train , 5 , verbose= 0 )"
   ]
  },
  {
   "cell_type": "code",
   "execution_count": 209,
   "metadata": {},
   "outputs": [
    {
     "name": "stdout",
     "output_type": "stream",
     "text": [
      "mean r2 for test: 0.8096005563040747\n",
      "\n",
      "mean r2 for train: 0.9968532239098608\n",
      "\n",
      "mean mae for test: 8825430.507776726\n",
      "\n",
      "mean mae for train: 307984.575904604\n",
      "\n"
     ]
    },
    {
     "data": {
      "text/plain": [
       "(307984.575904604, 8825430.507776726, 0.9968532239098608, 0.8096005563040747)"
      ]
     },
     "execution_count": 209,
     "metadata": {},
     "output_type": "execute_result"
    }
   ],
   "source": [
    "eval(KNeighborsRegressor(n_neighbors = 5 , algorithm=\"ball_tree\" , weights= \"distance\") , PolynomialFeatures(degree=2 , interaction_only=True, include_bias=False).fit_transform(X_train) , y_train , 5 , verbose= 0 )"
   ]
  },
  {
   "cell_type": "code",
   "execution_count": 216,
   "metadata": {},
   "outputs": [],
   "source": [
    "from sklearn.feature_selection import SelectKBest \n",
    "from sklearn.decomposition import PCA"
   ]
  },
  {
   "cell_type": "code",
   "execution_count": 215,
   "metadata": {},
   "outputs": [
    {
     "name": "stdout",
     "output_type": "stream",
     "text": [
      "mean r2 for test: 0.7970595712932157\n",
      "\n",
      "mean r2 for train: 0.9737400394424762\n",
      "\n",
      "mean mae for test: 8820739.149726823\n",
      "\n",
      "mean mae for train: 1723023.2826533415\n",
      "\n"
     ]
    },
    {
     "data": {
      "text/plain": [
       "(1723023.2826533415, 8820739.149726823, 0.9737400394424762, 0.7970595712932157)"
      ]
     },
     "execution_count": 215,
     "metadata": {},
     "output_type": "execute_result"
    }
   ],
   "source": [
    "eval(KNeighborsRegressor(n_neighbors = 5 , algorithm=\"ball_tree\" , weights= \"distance\") , SelectKBest(k=15).fit_transform(PolynomialFeatures(degree=2 , interaction_only=True, include_bias=False).fit_transform(X_train),y_train) , y_train , 5 , verbose= 0 )"
   ]
  },
  {
   "cell_type": "code",
   "execution_count": 233,
   "metadata": {},
   "outputs": [
    {
     "name": "stdout",
     "output_type": "stream",
     "text": [
      "mean r2 for test: 0.8170196086078452\n",
      "\n",
      "mean r2 for train: 0.9968583195828872\n",
      "\n",
      "mean mae for test: 8088182.017096845\n",
      "\n",
      "mean mae for train: 306918.93438670225\n",
      "\n"
     ]
    },
    {
     "data": {
      "text/plain": [
       "(306918.93438670225, 8088182.017096845, 0.9968583195828872, 0.8170196086078452)"
      ]
     },
     "execution_count": 233,
     "metadata": {},
     "output_type": "execute_result"
    }
   ],
   "source": [
    "eval(KNeighborsRegressor(n_neighbors = 5 , algorithm=\"ball_tree\" , weights= \"distance\") , PCA(12).fit_transform(PolynomialFeatures(degree=2 , interaction_only=True, include_bias=False).fit_transform(X_train),y_train) , y_train , 5 , verbose= 0 )"
   ]
  },
  {
   "cell_type": "code",
   "execution_count": 249,
   "metadata": {},
   "outputs": [
    {
     "name": "stdout",
     "output_type": "stream",
     "text": [
      "mean r2 for test: 0.8315944584374904\n",
      "\n",
      "mean r2 for train: 0.9968681164628299\n",
      "\n",
      "mean mae for test: 7856598.287495447\n",
      "\n",
      "mean mae for train: 306473.84959672275\n",
      "\n"
     ]
    },
    {
     "data": {
      "text/plain": [
       "(306473.84959672275, 7856598.287495447, 0.9968681164628299, 0.8315944584374904)"
      ]
     },
     "execution_count": 249,
     "metadata": {},
     "output_type": "execute_result"
    }
   ],
   "source": [
    "eval(KNeighborsRegressor(n_neighbors = 15 , algorithm=\"ball_tree\" , weights= \"distance\") , PCA(12).fit_transform(PolynomialFeatures(degree=2 , interaction_only=True, include_bias=False).fit_transform(X_train),y_train) , y_train , 5 , verbose= 0 )"
   ]
  },
  {
   "cell_type": "code",
   "execution_count": null,
   "metadata": {},
   "outputs": [],
   "source": []
  },
  {
   "attachments": {},
   "cell_type": "markdown",
   "metadata": {},
   "source": [
    "# Evaluation"
   ]
  },
  {
   "attachments": {},
   "cell_type": "markdown",
   "metadata": {},
   "source": [
    "## Train The Model"
   ]
  },
  {
   "cell_type": "code",
   "execution_count": 252,
   "metadata": {},
   "outputs": [
    {
     "data": {
      "text/html": [
       "<style>#sk-container-id-1 {color: black;background-color: white;}#sk-container-id-1 pre{padding: 0;}#sk-container-id-1 div.sk-toggleable {background-color: white;}#sk-container-id-1 label.sk-toggleable__label {cursor: pointer;display: block;width: 100%;margin-bottom: 0;padding: 0.3em;box-sizing: border-box;text-align: center;}#sk-container-id-1 label.sk-toggleable__label-arrow:before {content: \"▸\";float: left;margin-right: 0.25em;color: #696969;}#sk-container-id-1 label.sk-toggleable__label-arrow:hover:before {color: black;}#sk-container-id-1 div.sk-estimator:hover label.sk-toggleable__label-arrow:before {color: black;}#sk-container-id-1 div.sk-toggleable__content {max-height: 0;max-width: 0;overflow: hidden;text-align: left;background-color: #f0f8ff;}#sk-container-id-1 div.sk-toggleable__content pre {margin: 0.2em;color: black;border-radius: 0.25em;background-color: #f0f8ff;}#sk-container-id-1 input.sk-toggleable__control:checked~div.sk-toggleable__content {max-height: 200px;max-width: 100%;overflow: auto;}#sk-container-id-1 input.sk-toggleable__control:checked~label.sk-toggleable__label-arrow:before {content: \"▾\";}#sk-container-id-1 div.sk-estimator input.sk-toggleable__control:checked~label.sk-toggleable__label {background-color: #d4ebff;}#sk-container-id-1 div.sk-label input.sk-toggleable__control:checked~label.sk-toggleable__label {background-color: #d4ebff;}#sk-container-id-1 input.sk-hidden--visually {border: 0;clip: rect(1px 1px 1px 1px);clip: rect(1px, 1px, 1px, 1px);height: 1px;margin: -1px;overflow: hidden;padding: 0;position: absolute;width: 1px;}#sk-container-id-1 div.sk-estimator {font-family: monospace;background-color: #f0f8ff;border: 1px dotted black;border-radius: 0.25em;box-sizing: border-box;margin-bottom: 0.5em;}#sk-container-id-1 div.sk-estimator:hover {background-color: #d4ebff;}#sk-container-id-1 div.sk-parallel-item::after {content: \"\";width: 100%;border-bottom: 1px solid gray;flex-grow: 1;}#sk-container-id-1 div.sk-label:hover label.sk-toggleable__label {background-color: #d4ebff;}#sk-container-id-1 div.sk-serial::before {content: \"\";position: absolute;border-left: 1px solid gray;box-sizing: border-box;top: 0;bottom: 0;left: 50%;z-index: 0;}#sk-container-id-1 div.sk-serial {display: flex;flex-direction: column;align-items: center;background-color: white;padding-right: 0.2em;padding-left: 0.2em;position: relative;}#sk-container-id-1 div.sk-item {position: relative;z-index: 1;}#sk-container-id-1 div.sk-parallel {display: flex;align-items: stretch;justify-content: center;background-color: white;position: relative;}#sk-container-id-1 div.sk-item::before, #sk-container-id-1 div.sk-parallel-item::before {content: \"\";position: absolute;border-left: 1px solid gray;box-sizing: border-box;top: 0;bottom: 0;left: 50%;z-index: -1;}#sk-container-id-1 div.sk-parallel-item {display: flex;flex-direction: column;z-index: 1;position: relative;background-color: white;}#sk-container-id-1 div.sk-parallel-item:first-child::after {align-self: flex-end;width: 50%;}#sk-container-id-1 div.sk-parallel-item:last-child::after {align-self: flex-start;width: 50%;}#sk-container-id-1 div.sk-parallel-item:only-child::after {width: 0;}#sk-container-id-1 div.sk-dashed-wrapped {border: 1px dashed gray;margin: 0 0.4em 0.5em 0.4em;box-sizing: border-box;padding-bottom: 0.4em;background-color: white;}#sk-container-id-1 div.sk-label label {font-family: monospace;font-weight: bold;display: inline-block;line-height: 1.2em;}#sk-container-id-1 div.sk-label-container {text-align: center;}#sk-container-id-1 div.sk-container {/* jupyter's `normalize.less` sets `[hidden] { display: none; }` but bootstrap.min.css set `[hidden] { display: none !important; }` so we also need the `!important` here to be able to override the default hidden behavior on the sphinx rendered scikit-learn.org. See: https://github.com/scikit-learn/scikit-learn/issues/21755 */display: inline-block !important;position: relative;}#sk-container-id-1 div.sk-text-repr-fallback {display: none;}</style><div id=\"sk-container-id-1\" class=\"sk-top-container\"><div class=\"sk-text-repr-fallback\"><pre>KNeighborsRegressor(algorithm=&#x27;ball_tree&#x27;, n_neighbors=15, weights=&#x27;distance&#x27;)</pre><b>In a Jupyter environment, please rerun this cell to show the HTML representation or trust the notebook. <br />On GitHub, the HTML representation is unable to render, please try loading this page with nbviewer.org.</b></div><div class=\"sk-container\" hidden><div class=\"sk-item\"><div class=\"sk-estimator sk-toggleable\"><input class=\"sk-toggleable__control sk-hidden--visually\" id=\"sk-estimator-id-1\" type=\"checkbox\" checked><label for=\"sk-estimator-id-1\" class=\"sk-toggleable__label sk-toggleable__label-arrow\">KNeighborsRegressor</label><div class=\"sk-toggleable__content\"><pre>KNeighborsRegressor(algorithm=&#x27;ball_tree&#x27;, n_neighbors=15, weights=&#x27;distance&#x27;)</pre></div></div></div></div></div>"
      ],
      "text/plain": [
       "KNeighborsRegressor(algorithm='ball_tree', n_neighbors=15, weights='distance')"
      ]
     },
     "execution_count": 252,
     "metadata": {},
     "output_type": "execute_result"
    }
   ],
   "source": [
    "poly = PolynomialFeatures(degree=2 , include_bias= False , interaction_only= True)\n",
    "pca = PCA(12)\n",
    "model = KNeighborsRegressor(n_neighbors= 15 , algorithm=\"ball_tree\" , weights= \"distance\")\n",
    "\n",
    "X_train_poly = poly.fit_transform(X_train)\n",
    "X_test_poly = poly.transform(X_test)\n",
    "\n",
    "X_train_decomposed = pca.fit_transform(X_train_poly , y=y_train)\n",
    "X_test_decomposed = pca.transform(X_test_poly )\n",
    "\n",
    "model.fit(X_train_decomposed ,y_train )\n"
   ]
  },
  {
   "attachments": {},
   "cell_type": "markdown",
   "metadata": {},
   "source": [
    "## Evaluate The Model"
   ]
  },
  {
   "cell_type": "code",
   "execution_count": 254,
   "metadata": {},
   "outputs": [
    {
     "data": {
      "text/plain": [
       "0.8318915551425587"
      ]
     },
     "execution_count": 254,
     "metadata": {},
     "output_type": "execute_result"
    }
   ],
   "source": [
    "y_pred = model.predict(X_test_decomposed)"
   ]
  },
  {
   "cell_type": "code",
   "execution_count": 260,
   "metadata": {},
   "outputs": [
    {
     "data": {
      "text/plain": [
       "0.8901872800400568"
      ]
     },
     "execution_count": 260,
     "metadata": {},
     "output_type": "execute_result"
    }
   ],
   "source": [
    "acc = 1 - (mean_absolute_error(y_true= y_test , y_pred= y_pred) / np.mean(np.hstack((y_train , y_test))))\n",
    "acc"
   ]
  },
  {
   "cell_type": "code",
   "execution_count": 261,
   "metadata": {},
   "outputs": [
    {
     "name": "stdout",
     "output_type": "stream",
     "text": [
      "Accuracy score: 0.8901872800400568\n",
      "r2 score: 0.8318915551425587\n",
      "mean_absolute_error: 8112645.7723970385\n"
     ]
    }
   ],
   "source": [
    "print(\"Accuracy score:\" ,acc)\n",
    "print(\"r2 score:\" ,r2_score(y_true= y_test , y_pred= y_pred))\n",
    "print(\"mean_absolute_error:\" ,mean_absolute_error(y_true= y_test , y_pred= y_pred))"
   ]
  },
  {
   "cell_type": "code",
   "execution_count": 264,
   "metadata": {},
   "outputs": [
    {
     "name": "stdout",
     "output_type": "stream",
     "text": [
      "Accuracy score on train: 0.9952412784672646\n",
      "r2 score on train: 0.996343872314602\n",
      "mean_absolute_error on train: 351560.5672880405\n"
     ]
    }
   ],
   "source": [
    "y_pred_train = model.predict(X_train_decomposed)\n",
    "acc_train = 1 - (mean_absolute_error(y_true= y_train , y_pred=y_pred_train ) / np.mean(np.hstack((y_train , y_test))))\n",
    "print(\"Accuracy score on train:\" ,acc_train)\n",
    "print(\"r2 score on train:\" ,r2_score(y_true= y_train , y_pred= y_pred_train))\n",
    "print(\"mean_absolute_error on train:\" ,mean_absolute_error(y_true= y_train , y_pred=y_pred_train ))"
   ]
  }
 ],
 "metadata": {
  "kernelspec": {
   "display_name": "base",
   "language": "python",
   "name": "python3"
  },
  "language_info": {
   "codemirror_mode": {
    "name": "ipython",
    "version": 3
   },
   "file_extension": ".py",
   "mimetype": "text/x-python",
   "name": "python",
   "nbconvert_exporter": "python",
   "pygments_lexer": "ipython3",
   "version": "3.9.7"
  },
  "orig_nbformat": 4,
  "vscode": {
   "interpreter": {
    "hash": "7287290b0480c475e07faa8d8f2642b950c35b54c7904c27a4cb3f03b8542e7d"
   }
  }
 },
 "nbformat": 4,
 "nbformat_minor": 2
}
